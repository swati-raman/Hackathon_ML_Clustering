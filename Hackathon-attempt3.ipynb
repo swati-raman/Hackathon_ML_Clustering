{
 "cells": [
  {
   "cell_type": "code",
   "execution_count": 1,
   "metadata": {},
   "outputs": [],
   "source": [
    "# import 'numpy' to compute high-level mathematics functions \n",
    "import numpy as np\n",
    "\n",
    "# import 'pandas' to perform data manipulation\n",
    "import pandas as pd\n",
    "\n",
    "# import 'matplotlib.pyplot' for visualization\n",
    "import matplotlib.pyplot as plt\n",
    "\n",
    "# import 'seaborn' for high-level statistical graphics\n",
    "import seaborn as sns\n",
    "\n",
    "\n",
    "\n",
    "# run below code to convert the 'exponential' values to float\n",
    "np.set_printoptions(suppress = True)\n",
    "\n",
    "# import functions from sklearn to perform clustering\n",
    "from sklearn.preprocessing import MinMaxScaler\n",
    "from sklearn.preprocessing import StandardScaler\n",
    "from sklearn.metrics import silhouette_score \n",
    "\n"
   ]
  },
  {
   "cell_type": "code",
   "execution_count": 2,
   "metadata": {},
   "outputs": [
    {
     "data": {
      "text/html": [
       "<div>\n",
       "<style scoped>\n",
       "    .dataframe tbody tr th:only-of-type {\n",
       "        vertical-align: middle;\n",
       "    }\n",
       "\n",
       "    .dataframe tbody tr th {\n",
       "        vertical-align: top;\n",
       "    }\n",
       "\n",
       "    .dataframe thead th {\n",
       "        text-align: right;\n",
       "    }\n",
       "</style>\n",
       "<table border=\"1\" class=\"dataframe\">\n",
       "  <thead>\n",
       "    <tr style=\"text-align: right;\">\n",
       "      <th></th>\n",
       "      <th>SEQN</th>\n",
       "      <th>SDDSRVYR</th>\n",
       "      <th>RIDSTATR</th>\n",
       "      <th>RIAGENDR</th>\n",
       "      <th>RIDAGEYR</th>\n",
       "      <th>RIDAGEMN</th>\n",
       "      <th>RIDRETH1</th>\n",
       "      <th>RIDRETH3</th>\n",
       "      <th>RIDEXMON</th>\n",
       "      <th>RIDEXAGM</th>\n",
       "      <th>...</th>\n",
       "      <th>DRD340</th>\n",
       "      <th>DRD360</th>\n",
       "      <th>URXUMA</th>\n",
       "      <th>URXUMS</th>\n",
       "      <th>URXUCR.x</th>\n",
       "      <th>URXCRS</th>\n",
       "      <th>URDACT</th>\n",
       "      <th>LBXSAL</th>\n",
       "      <th>LBDSALSI</th>\n",
       "      <th>LBXSAPSI</th>\n",
       "    </tr>\n",
       "  </thead>\n",
       "  <tbody>\n",
       "    <tr>\n",
       "      <th>0</th>\n",
       "      <td>73557</td>\n",
       "      <td>8</td>\n",
       "      <td>2</td>\n",
       "      <td>1</td>\n",
       "      <td>69</td>\n",
       "      <td>NaN</td>\n",
       "      <td>4</td>\n",
       "      <td>4</td>\n",
       "      <td>1</td>\n",
       "      <td>NaN</td>\n",
       "      <td>...</td>\n",
       "      <td>6.586219</td>\n",
       "      <td>-6.527018</td>\n",
       "      <td>9.182882</td>\n",
       "      <td>-9.018023</td>\n",
       "      <td>-6.181923</td>\n",
       "      <td>5.151193</td>\n",
       "      <td>-9.708139</td>\n",
       "      <td>2.814690</td>\n",
       "      <td>-2.712184</td>\n",
       "      <td>-6.811191</td>\n",
       "    </tr>\n",
       "    <tr>\n",
       "      <th>1</th>\n",
       "      <td>73558</td>\n",
       "      <td>8</td>\n",
       "      <td>2</td>\n",
       "      <td>1</td>\n",
       "      <td>54</td>\n",
       "      <td>NaN</td>\n",
       "      <td>3</td>\n",
       "      <td>3</td>\n",
       "      <td>1</td>\n",
       "      <td>NaN</td>\n",
       "      <td>...</td>\n",
       "      <td>-9.588554</td>\n",
       "      <td>1.863741</td>\n",
       "      <td>-9.378731</td>\n",
       "      <td>8.289190</td>\n",
       "      <td>-2.561066</td>\n",
       "      <td>-3.755943</td>\n",
       "      <td>1.406037</td>\n",
       "      <td>7.590942</td>\n",
       "      <td>0.480820</td>\n",
       "      <td>-4.636475</td>\n",
       "    </tr>\n",
       "    <tr>\n",
       "      <th>2</th>\n",
       "      <td>73559</td>\n",
       "      <td>8</td>\n",
       "      <td>2</td>\n",
       "      <td>1</td>\n",
       "      <td>72</td>\n",
       "      <td>NaN</td>\n",
       "      <td>3</td>\n",
       "      <td>3</td>\n",
       "      <td>2</td>\n",
       "      <td>NaN</td>\n",
       "      <td>...</td>\n",
       "      <td>-5.229054</td>\n",
       "      <td>6.379788</td>\n",
       "      <td>-9.433054</td>\n",
       "      <td>-9.285869</td>\n",
       "      <td>9.248429</td>\n",
       "      <td>-7.439368</td>\n",
       "      <td>8.374918</td>\n",
       "      <td>8.401561</td>\n",
       "      <td>-9.936335</td>\n",
       "      <td>0.913262</td>\n",
       "    </tr>\n",
       "    <tr>\n",
       "      <th>3</th>\n",
       "      <td>73560</td>\n",
       "      <td>8</td>\n",
       "      <td>2</td>\n",
       "      <td>1</td>\n",
       "      <td>9</td>\n",
       "      <td>NaN</td>\n",
       "      <td>3</td>\n",
       "      <td>3</td>\n",
       "      <td>1</td>\n",
       "      <td>119.0</td>\n",
       "      <td>...</td>\n",
       "      <td>7.428271</td>\n",
       "      <td>-1.193575</td>\n",
       "      <td>6.972074</td>\n",
       "      <td>-0.257756</td>\n",
       "      <td>-5.087773</td>\n",
       "      <td>8.581422</td>\n",
       "      <td>4.767615</td>\n",
       "      <td>9.760521</td>\n",
       "      <td>-4.708915</td>\n",
       "      <td>7.624684</td>\n",
       "    </tr>\n",
       "    <tr>\n",
       "      <th>4</th>\n",
       "      <td>73561</td>\n",
       "      <td>8</td>\n",
       "      <td>2</td>\n",
       "      <td>2</td>\n",
       "      <td>73</td>\n",
       "      <td>NaN</td>\n",
       "      <td>3</td>\n",
       "      <td>3</td>\n",
       "      <td>1</td>\n",
       "      <td>NaN</td>\n",
       "      <td>...</td>\n",
       "      <td>2.125105</td>\n",
       "      <td>-2.906226</td>\n",
       "      <td>1.977286</td>\n",
       "      <td>-1.322955</td>\n",
       "      <td>-1.034636</td>\n",
       "      <td>6.702919</td>\n",
       "      <td>-1.735375</td>\n",
       "      <td>-4.799543</td>\n",
       "      <td>1.194572</td>\n",
       "      <td>-7.098007</td>\n",
       "    </tr>\n",
       "  </tbody>\n",
       "</table>\n",
       "<p>5 rows × 636 columns</p>\n",
       "</div>"
      ],
      "text/plain": [
       "    SEQN  SDDSRVYR  RIDSTATR  RIAGENDR  RIDAGEYR  RIDAGEMN  RIDRETH1  \\\n",
       "0  73557         8         2         1        69       NaN         4   \n",
       "1  73558         8         2         1        54       NaN         3   \n",
       "2  73559         8         2         1        72       NaN         3   \n",
       "3  73560         8         2         1         9       NaN         3   \n",
       "4  73561         8         2         2        73       NaN         3   \n",
       "\n",
       "   RIDRETH3  RIDEXMON  RIDEXAGM  ...    DRD340    DRD360    URXUMA    URXUMS  \\\n",
       "0         4         1       NaN  ...  6.586219 -6.527018  9.182882 -9.018023   \n",
       "1         3         1       NaN  ... -9.588554  1.863741 -9.378731  8.289190   \n",
       "2         3         2       NaN  ... -5.229054  6.379788 -9.433054 -9.285869   \n",
       "3         3         1     119.0  ...  7.428271 -1.193575  6.972074 -0.257756   \n",
       "4         3         1       NaN  ...  2.125105 -2.906226  1.977286 -1.322955   \n",
       "\n",
       "   URXUCR.x    URXCRS    URDACT    LBXSAL  LBDSALSI  LBXSAPSI  \n",
       "0 -6.181923  5.151193 -9.708139  2.814690 -2.712184 -6.811191  \n",
       "1 -2.561066 -3.755943  1.406037  7.590942  0.480820 -4.636475  \n",
       "2  9.248429 -7.439368  8.374918  8.401561 -9.936335  0.913262  \n",
       "3 -5.087773  8.581422  4.767615  9.760521 -4.708915  7.624684  \n",
       "4 -1.034636  6.702919 -1.735375 -4.799543  1.194572 -7.098007  \n",
       "\n",
       "[5 rows x 636 columns]"
      ]
     },
     "execution_count": 2,
     "metadata": {},
     "output_type": "execute_result"
    }
   ],
   "source": [
    "df_health = pd.read_csv(\"/Users/swatiraman/Downloads/drive-download-20210428T114902Z-001/df.csv\")\n",
    "df_health.head()"
   ]
  },
  {
   "cell_type": "code",
   "execution_count": 3,
   "metadata": {},
   "outputs": [],
   "source": [
    "for i in df_health.columns:\n",
    "    if (df_health[i].isnull().sum() > 2000):\n",
    "        df_health.drop(i,axis=1,inplace=True)"
   ]
  },
  {
   "cell_type": "code",
   "execution_count": 4,
   "metadata": {
    "scrolled": true
   },
   "outputs": [
    {
     "name": "stdout",
     "output_type": "stream",
     "text": [
      "DMDCITZN contain almost all null values 4\n",
      "SIAPROXY contain almost all null values 1\n",
      "FIALANG contain almost all null values 101\n",
      "FIAPROXY contain almost all null values 101\n",
      "FIAINTRP contain almost all null values 101\n",
      "DMDHRBR4 contain almost all null values 265\n",
      "DMDHREDU contain almost all null values 262\n",
      "DMDHRMAR contain almost all null values 112\n",
      "INDHHIN2 contain almost all null values 113\n",
      "INDFMIN2 contain almost all null values 103\n",
      "INDFMPIR contain almost all null values 730\n",
      "WTDR2D contain almost all null values 1152\n",
      "DR1EXMER contain almost all null values 1030\n",
      "DRABF contain almost all null values 1152\n",
      "DRDINT contain almost all null values 1152\n",
      "DR1DBIH contain almost all null values 1107\n",
      "DR1DAY contain almost all null values 1030\n",
      "DR1LANG contain almost all null values 1016\n",
      "DR1MNRSP contain almost all null values 1160\n",
      "DR1HELPD contain almost all null values 1185\n",
      "DBQ095Z contain almost all null values 1030\n",
      "DRQSPREP contain almost all null values 1030\n",
      "DR1STY contain almost all null values 1030\n",
      "DRQSDIET contain almost all null values 1030\n",
      "DR1TNUMF contain almost all null values 1152\n",
      "DR1TKCAL contain almost all null values 1282\n",
      "DR1TPROT contain almost all null values 1282\n",
      "DR1TCARB contain almost all null values 1282\n",
      "DR1TSUGR contain almost all null values 1282\n",
      "DR1TFIBE contain almost all null values 1282\n",
      "DR1TTFAT contain almost all null values 1282\n",
      "DR1TSFAT contain almost all null values 1282\n",
      "DR1TMFAT contain almost all null values 1282\n",
      "DR1TPFAT contain almost all null values 1282\n",
      "DR1TCHOL contain almost all null values 1282\n",
      "DR1TATOC contain almost all null values 1282\n",
      "DR1TATOA contain almost all null values 1282\n",
      "DR1TRET contain almost all null values 1282\n",
      "DR1TVARA contain almost all null values 1282\n",
      "DR1TACAR contain almost all null values 1282\n",
      "DR1TBCAR contain almost all null values 1282\n",
      "DR1TCRYP contain almost all null values 1282\n",
      "DR1TLYCO contain almost all null values 1282\n",
      "DR1TLZ contain almost all null values 1282\n",
      "DR1TVB1 contain almost all null values 1282\n",
      "DR1TVB2 contain almost all null values 1282\n",
      "DR1TNIAC contain almost all null values 1282\n",
      "DR1TVB6 contain almost all null values 1282\n",
      "DR1TFOLA contain almost all null values 1282\n",
      "LBXWBCSI contain almost all null values 1269\n",
      "LBXLYPCT contain almost all null values 1294\n",
      "LBXMOPCT contain almost all null values 1294\n",
      "LBXNEPCT contain almost all null values 1294\n",
      "LBXEOPCT contain almost all null values 1294\n",
      "LBXBAPCT contain almost all null values 1294\n",
      "LBDLYMNO contain almost all null values 1294\n",
      "LBDMONO contain almost all null values 1294\n",
      "LBDNENO contain almost all null values 1294\n",
      "LBDEONO contain almost all null values 1294\n",
      "LBDBANO contain almost all null values 1294\n",
      "LBXRBCSI contain almost all null values 1269\n",
      "LBXHGB contain almost all null values 1269\n",
      "LBXHCT contain almost all null values 1269\n",
      "LBXMCVSI contain almost all null values 1269\n",
      "LBXMCHSI contain almost all null values 1269\n",
      "LBXMC contain almost all null values 1269\n",
      "LBXRDW contain almost all null values 1269\n",
      "LBXPLTSI contain almost all null values 1269\n",
      "LBXMPSI contain almost all null values 1269\n",
      "PHQ020 contain almost all null values 631\n",
      "PHQ030 contain almost all null values 631\n",
      "PHQ040 contain almost all null values 631\n",
      "PHQ050 contain almost all null values 631\n",
      "PHQ060 contain almost all null values 631\n",
      "PHAFSTHR.x contain almost all null values 631\n",
      "PHAFSTMN.x contain almost all null values 631\n",
      "PHDSESN contain almost all null values 391\n",
      "LBXHA contain almost all null values 1549\n",
      "LBXHBS contain almost all null values 1552\n",
      "URXVOL1 contain almost all null values 1756\n"
     ]
    }
   ],
   "source": [
    "for i in df_health.columns:\n",
    "    if (df_health[i].isnull().sum() > 0 ):\n",
    "        #df[i].fillna(df[i].median,inplace=True)\n",
    "        print(i,'contain almost all null values',df_health[i].isnull().sum())"
   ]
  },
  {
   "cell_type": "code",
   "execution_count": null,
   "metadata": {},
   "outputs": [],
   "source": []
  },
  {
   "cell_type": "raw",
   "metadata": {},
   "source": [
    "df = df_health.drop(['SEQN','ORXGH','ORXGL','ORXH06','ORXH11','ORXH16','ORXH18','ORXH26','ORXH31','ORXH33','ORXH35','ORXH39',\n",
    "'ORXH40','ORXH42','ORXH45','ORXH51','ORXH52','ORXH53','ORXH54','ORXH55','ORXH56','ORXH58','ORXH59','ORXH61',\n",
    "'ORXH62','ORXH64','ORXH66','ORXH67','ORXH68','ORXH69','ORXH70','ORXH71','ORXH72','ORXH73','ORXH81','ORXH82',\n",
    "'ORXH83','ORXH84','ORXHPC','ORXHPI','PHDSESN','DRD370A','DRD370B','DRD370C','DRD370D','DRD370E','DRD370F',\n",
    "'DRD370G','DRD370H','DRD370I','DRD370J','DRD370K','DRD370L','DRD370M','DRD370N','DRD370O','DRD370P','DRD370Q',\n",
    "'DRD370R', 'DRD370S','DRD370T','DRD370U','DRD370V','WTDR2D','LBXHBC','LBXTC','DR1TVARA','DR1TACAR','DR1TBCAR',\n",
    "'DR1TCRYP','DR1TLYCO','DR1TATOC','DR1TCHOL','DR1TKCAL','DR1STY','DRQSPREP','DBQ095Z','DR1DAY','DR1DBIH',\n",
    "'DRDINT','DRABF','WTSH2YR.x','LBXIHG','LBDIHGLC','LBDBGELC','LBDBGMLC','LBXBPB','LBDBPBSI','LBXBCD',\n",
    "'LBDBCDSI','LBXTHG','DBD100','DMDMARTL','DMQMILIZ','AIALANGA','DBD100','DBQ095Z','DMDHHSIZ','DMDHHSZA','DMDHRBR4',\n",
    "'DMDHREDU','DMDHRGND','DMDHRMAR','DMDYRSUS','DMQADFC','DMQMILIZ','DR1.300','DR1.300','DR1.320Z','DR1.320Z',\n",
    "'DR1.330Z','DR1.330Z','DR1BWATZ','DR1HELPD','DR1LANG','DR1MNRSP','DR1SKY','DR1STY','DR1TACAR','DR1TALCO',\n",
    "'DR1TALCO','DR1TCALC','DR1TCHOL','DR1TCOPP'],axis=1)\n"
   ]
  },
  {
   "cell_type": "raw",
   "metadata": {},
   "source": [
    "df.shape"
   ]
  },
  {
   "cell_type": "raw",
   "metadata": {},
   "source": [
    "for i in df.columns:\n",
    "    if len(df[i].unique())<20:\n",
    "        print(i,'=',df[i].unique())"
   ]
  },
  {
   "cell_type": "raw",
   "metadata": {},
   "source": [
    "col_names_categorical = ['RIAGENDR','RIDRETH3','DMDBORN4','DMDCITZN','DMDMARTL','MIALANG',\n",
    "                         'MIAPROXY','MIAINTRP','DMDFMSIZ','DMDHSEDU','DRQSDIET',\n",
    "                         'PHQ020','PHQ040','PHQ060','LBXHA','LBXHBS',\n",
    "                         'LBXHBC','LBDHD','LBDHEM','ORXGH','ORXGL','ORXH06','ORXH11','ORXH16','ORXH18',\n",
    "                         'ORXH26','ORXH31',\n",
    "                         'LBDIHGLC','LBXTTG','LBDTHGLC']"
   ]
  },
  {
   "cell_type": "raw",
   "metadata": {},
   "source": [
    "col_names_categorical = ['SDDSRVYR','RIDSTATR','RIAGENDR','RIDRETH1','RIDRETH3','RIDEXMON','DMDBORN4','DMDCITZN',\n",
    "                         'DMDEDUC2','SIALANG','SIAPROXY','SIAINTRP','MIALANG',\n",
    "                         'MIAPROXY','MIAINTRP','DMDFMSIZ','FIALANG','FIAPROXY','FIAINTRP','DMDHSEDU','DRQSDIET',\n",
    "                         'PHQ020','PHQ030','PHQ040','PHQ050','PHQ060','LBXHA','DMDHHSZB','DMDHHSZE','SDMVPSU',\n",
    "                         'DR1DRSTZ','LBXHBS','DRD350A','DRD350B','DRD350C','DRD350D',\n",
    "                         'DRD350E','DRD350F','DRD350G','DRD350H','DRD350I','DRD350J','DRD350K',\n",
    "                         'LBDHBG','LBDHD','LBDHEG','LBDHEM','LBXHE1','LBXHE2','LBDHI','ORXHPV','LBXTTG','LBDTHGLC',\n",
    "                         'LBDBPBLC','LBDBCDLC','LBDBSELC','LBDBMNLC','URXUTRI']"
   ]
  },
  {
   "cell_type": "raw",
   "metadata": {},
   "source": [
    "for i in col_names_categorical:\n",
    "    if (df[i].isnull().sum() > 0 ):\n",
    "        df[i].fillna(df[i].mode()[0],inplace=True)\n",
    "        print(df[i].unique())"
   ]
  },
  {
   "cell_type": "raw",
   "metadata": {},
   "source": [
    "for i in col_names_categorical:\n",
    "    if (df[i].isnull().sum() > 0 ):\n",
    "        df[i].fillna(0,inplace=True)\n",
    "        print(df[i].unique())"
   ]
  },
  {
   "cell_type": "raw",
   "metadata": {},
   "source": [
    "for i in col_names_categorical:\n",
    "    if (df[i].isnull().sum() > 0 ):\n",
    "        #df[i].fillna(df[i].mode()[0],inplace=True)\n",
    "        print(df[i].unique())"
   ]
  },
  {
   "cell_type": "raw",
   "metadata": {},
   "source": [
    "for i in df.columns:\n",
    "    if (df[i].isnull().sum() > 0 ):\n",
    "        df[i].fillna(df[i].mean(),inplace=True)\n",
    "        #print(i,'contain almost all null values',df_health[i].isnull().sum())"
   ]
  },
  {
   "cell_type": "markdown",
   "metadata": {},
   "source": [
    "df.columns"
   ]
  },
  {
   "cell_type": "code",
   "execution_count": 5,
   "metadata": {},
   "outputs": [],
   "source": [
    "for i in df_health.columns:\n",
    "    if (df_health[i].isnull().sum() > 0 ):\n",
    "        df_health[i].fillna(df_health[i].mean(),inplace=True)\n",
    "        #print(i,'contain almost all null values',df_health[i].isnull().sum())"
   ]
  },
  {
   "cell_type": "raw",
   "metadata": {},
   "source": [
    "df[col_names_categorical].dtypes"
   ]
  },
  {
   "cell_type": "raw",
   "metadata": {},
   "source": [
    "df[col_names_categorical]=df[col_names_categorical].astype('object')"
   ]
  },
  {
   "cell_type": "raw",
   "metadata": {},
   "source": [
    "for i in col_names_categorical:\n",
    "    print(df[i].unique())"
   ]
  },
  {
   "cell_type": "raw",
   "metadata": {},
   "source": [
    "df1 = pd.get_dummies(df[col_names_categorical], drop_first = True)"
   ]
  },
  {
   "cell_type": "raw",
   "metadata": {},
   "source": [
    "df1.shape"
   ]
  },
  {
   "cell_type": "raw",
   "metadata": {},
   "source": [
    "for i in col_names_categorical:\n",
    "    df.drop(i,axis=1,inplace=True)"
   ]
  },
  {
   "cell_type": "code",
   "execution_count": 6,
   "metadata": {},
   "outputs": [
    {
     "data": {
      "text/plain": [
       "(9813, 159)"
      ]
     },
     "execution_count": 6,
     "metadata": {},
     "output_type": "execute_result"
    }
   ],
   "source": [
    "df_health.shape"
   ]
  },
  {
   "cell_type": "raw",
   "metadata": {},
   "source": [
    "result = pd.concat([df, df1], axis=1, join='inner')\n",
    "result.shape"
   ]
  },
  {
   "cell_type": "code",
   "execution_count": 7,
   "metadata": {},
   "outputs": [
    {
     "data": {
      "text/html": [
       "<div>\n",
       "<style scoped>\n",
       "    .dataframe tbody tr th:only-of-type {\n",
       "        vertical-align: middle;\n",
       "    }\n",
       "\n",
       "    .dataframe tbody tr th {\n",
       "        vertical-align: top;\n",
       "    }\n",
       "\n",
       "    .dataframe thead th {\n",
       "        text-align: right;\n",
       "    }\n",
       "</style>\n",
       "<table border=\"1\" class=\"dataframe\">\n",
       "  <thead>\n",
       "    <tr style=\"text-align: right;\">\n",
       "      <th></th>\n",
       "      <th>SEQN</th>\n",
       "      <th>SDDSRVYR</th>\n",
       "      <th>RIDSTATR</th>\n",
       "      <th>RIAGENDR</th>\n",
       "      <th>RIDAGEYR</th>\n",
       "      <th>RIDRETH1</th>\n",
       "      <th>RIDRETH3</th>\n",
       "      <th>RIDEXMON</th>\n",
       "      <th>DMDBORN4</th>\n",
       "      <th>DMDCITZN</th>\n",
       "      <th>...</th>\n",
       "      <th>DRD340</th>\n",
       "      <th>DRD360</th>\n",
       "      <th>URXUMA</th>\n",
       "      <th>URXUMS</th>\n",
       "      <th>URXUCR.x</th>\n",
       "      <th>URXCRS</th>\n",
       "      <th>URDACT</th>\n",
       "      <th>LBXSAL</th>\n",
       "      <th>LBDSALSI</th>\n",
       "      <th>LBXSAPSI</th>\n",
       "    </tr>\n",
       "  </thead>\n",
       "  <tbody>\n",
       "    <tr>\n",
       "      <th>count</th>\n",
       "      <td>9.813000e+03</td>\n",
       "      <td>9813.0</td>\n",
       "      <td>9813.0</td>\n",
       "      <td>9.813000e+03</td>\n",
       "      <td>9.813000e+03</td>\n",
       "      <td>9.813000e+03</td>\n",
       "      <td>9.813000e+03</td>\n",
       "      <td>9.813000e+03</td>\n",
       "      <td>9.813000e+03</td>\n",
       "      <td>9.813000e+03</td>\n",
       "      <td>...</td>\n",
       "      <td>9.813000e+03</td>\n",
       "      <td>9.813000e+03</td>\n",
       "      <td>9.813000e+03</td>\n",
       "      <td>9.813000e+03</td>\n",
       "      <td>9.813000e+03</td>\n",
       "      <td>9.813000e+03</td>\n",
       "      <td>9.813000e+03</td>\n",
       "      <td>9.813000e+03</td>\n",
       "      <td>9.813000e+03</td>\n",
       "      <td>9.813000e+03</td>\n",
       "    </tr>\n",
       "    <tr>\n",
       "      <th>mean</th>\n",
       "      <td>-1.584475e-15</td>\n",
       "      <td>0.0</td>\n",
       "      <td>0.0</td>\n",
       "      <td>4.063916e-17</td>\n",
       "      <td>3.710926e-18</td>\n",
       "      <td>2.192614e-17</td>\n",
       "      <td>4.057807e-16</td>\n",
       "      <td>3.990603e-16</td>\n",
       "      <td>-5.110443e-17</td>\n",
       "      <td>-1.310104e-15</td>\n",
       "      <td>...</td>\n",
       "      <td>6.595944e-18</td>\n",
       "      <td>-2.613487e-17</td>\n",
       "      <td>-6.629886e-18</td>\n",
       "      <td>3.197279e-17</td>\n",
       "      <td>-3.254980e-17</td>\n",
       "      <td>1.733274e-17</td>\n",
       "      <td>1.712909e-17</td>\n",
       "      <td>2.525240e-17</td>\n",
       "      <td>1.731011e-17</td>\n",
       "      <td>-1.357656e-17</td>\n",
       "    </tr>\n",
       "    <tr>\n",
       "      <th>std</th>\n",
       "      <td>1.000051e+00</td>\n",
       "      <td>0.0</td>\n",
       "      <td>0.0</td>\n",
       "      <td>1.000051e+00</td>\n",
       "      <td>1.000051e+00</td>\n",
       "      <td>1.000051e+00</td>\n",
       "      <td>1.000051e+00</td>\n",
       "      <td>1.000051e+00</td>\n",
       "      <td>1.000051e+00</td>\n",
       "      <td>1.000051e+00</td>\n",
       "      <td>...</td>\n",
       "      <td>1.000051e+00</td>\n",
       "      <td>1.000051e+00</td>\n",
       "      <td>1.000051e+00</td>\n",
       "      <td>1.000051e+00</td>\n",
       "      <td>1.000051e+00</td>\n",
       "      <td>1.000051e+00</td>\n",
       "      <td>1.000051e+00</td>\n",
       "      <td>1.000051e+00</td>\n",
       "      <td>1.000051e+00</td>\n",
       "      <td>1.000051e+00</td>\n",
       "    </tr>\n",
       "    <tr>\n",
       "      <th>min</th>\n",
       "      <td>-1.731380e+00</td>\n",
       "      <td>0.0</td>\n",
       "      <td>0.0</td>\n",
       "      <td>-1.015508e+00</td>\n",
       "      <td>-1.296490e+00</td>\n",
       "      <td>-1.650184e+00</td>\n",
       "      <td>-1.416713e+00</td>\n",
       "      <td>-1.017166e+00</td>\n",
       "      <td>-1.390983e-01</td>\n",
       "      <td>-2.871655e-01</td>\n",
       "      <td>...</td>\n",
       "      <td>-1.239705e+00</td>\n",
       "      <td>-1.537897e+00</td>\n",
       "      <td>-1.641090e+00</td>\n",
       "      <td>-2.232488e+00</td>\n",
       "      <td>-1.717146e+00</td>\n",
       "      <td>-2.135666e+00</td>\n",
       "      <td>-1.745580e+00</td>\n",
       "      <td>-2.028164e+00</td>\n",
       "      <td>-1.995169e+00</td>\n",
       "      <td>-1.707871e+00</td>\n",
       "    </tr>\n",
       "    <tr>\n",
       "      <th>25%</th>\n",
       "      <td>-8.686779e-01</td>\n",
       "      <td>0.0</td>\n",
       "      <td>0.0</td>\n",
       "      <td>-1.015508e+00</td>\n",
       "      <td>-8.865920e-01</td>\n",
       "      <td>-8.582604e-01</td>\n",
       "      <td>-7.947736e-01</td>\n",
       "      <td>-1.017166e+00</td>\n",
       "      <td>-1.390983e-01</td>\n",
       "      <td>-2.871655e-01</td>\n",
       "      <td>...</td>\n",
       "      <td>-1.054675e+00</td>\n",
       "      <td>-9.766310e-01</td>\n",
       "      <td>-7.365068e-01</td>\n",
       "      <td>-7.503462e-01</td>\n",
       "      <td>-9.437948e-01</td>\n",
       "      <td>-7.884702e-01</td>\n",
       "      <td>-8.567073e-01</td>\n",
       "      <td>-8.424562e-01</td>\n",
       "      <td>-9.150260e-01</td>\n",
       "      <td>-7.359487e-01</td>\n",
       "    </tr>\n",
       "    <tr>\n",
       "      <th>50%</th>\n",
       "      <td>-5.308838e-04</td>\n",
       "      <td>0.0</td>\n",
       "      <td>0.0</td>\n",
       "      <td>9.847288e-01</td>\n",
       "      <td>-1.897653e-01</td>\n",
       "      <td>-6.633663e-02</td>\n",
       "      <td>-1.728347e-01</td>\n",
       "      <td>9.831241e-01</td>\n",
       "      <td>-1.390983e-01</td>\n",
       "      <td>-2.871655e-01</td>\n",
       "      <td>...</td>\n",
       "      <td>-4.033087e-01</td>\n",
       "      <td>-2.141346e-01</td>\n",
       "      <td>-1.211135e-01</td>\n",
       "      <td>-2.226084e-01</td>\n",
       "      <td>-2.618338e-01</td>\n",
       "      <td>2.335002e-01</td>\n",
       "      <td>5.056937e-01</td>\n",
       "      <td>3.566948e-01</td>\n",
       "      <td>-5.123258e-02</td>\n",
       "      <td>-4.406316e-01</td>\n",
       "    </tr>\n",
       "    <tr>\n",
       "      <th>75%</th>\n",
       "      <td>8.665951e-01</td>\n",
       "      <td>0.0</td>\n",
       "      <td>0.0</td>\n",
       "      <td>9.847288e-01</td>\n",
       "      <td>8.349799e-01</td>\n",
       "      <td>7.255871e-01</td>\n",
       "      <td>4.491042e-01</td>\n",
       "      <td>9.831241e-01</td>\n",
       "      <td>-1.390983e-01</td>\n",
       "      <td>-2.871655e-01</td>\n",
       "      <td>...</td>\n",
       "      <td>1.314337e+00</td>\n",
       "      <td>1.016735e+00</td>\n",
       "      <td>7.263260e-01</td>\n",
       "      <td>1.031064e+00</td>\n",
       "      <td>9.003270e-01</td>\n",
       "      <td>8.277328e-01</td>\n",
       "      <td>8.524805e-01</td>\n",
       "      <td>9.171456e-01</td>\n",
       "      <td>8.686700e-01</td>\n",
       "      <td>7.242583e-01</td>\n",
       "    </tr>\n",
       "    <tr>\n",
       "      <th>max</th>\n",
       "      <td>1.730999e+00</td>\n",
       "      <td>0.0</td>\n",
       "      <td>0.0</td>\n",
       "      <td>9.847288e-01</td>\n",
       "      <td>1.982694e+00</td>\n",
       "      <td>1.517511e+00</td>\n",
       "      <td>2.314921e+00</td>\n",
       "      <td>9.831241e-01</td>\n",
       "      <td>4.797677e+01</td>\n",
       "      <td>2.296820e+01</td>\n",
       "      <td>...</td>\n",
       "      <td>1.735305e+00</td>\n",
       "      <td>1.565903e+00</td>\n",
       "      <td>1.799853e+00</td>\n",
       "      <td>1.863324e+00</td>\n",
       "      <td>1.523652e+00</td>\n",
       "      <td>1.306299e+00</td>\n",
       "      <td>1.409813e+00</td>\n",
       "      <td>1.215246e+00</td>\n",
       "      <td>1.998478e+00</td>\n",
       "      <td>1.725715e+00</td>\n",
       "    </tr>\n",
       "  </tbody>\n",
       "</table>\n",
       "<p>8 rows × 159 columns</p>\n",
       "</div>"
      ],
      "text/plain": [
       "               SEQN  SDDSRVYR  RIDSTATR      RIAGENDR      RIDAGEYR  \\\n",
       "count  9.813000e+03    9813.0    9813.0  9.813000e+03  9.813000e+03   \n",
       "mean  -1.584475e-15       0.0       0.0  4.063916e-17  3.710926e-18   \n",
       "std    1.000051e+00       0.0       0.0  1.000051e+00  1.000051e+00   \n",
       "min   -1.731380e+00       0.0       0.0 -1.015508e+00 -1.296490e+00   \n",
       "25%   -8.686779e-01       0.0       0.0 -1.015508e+00 -8.865920e-01   \n",
       "50%   -5.308838e-04       0.0       0.0  9.847288e-01 -1.897653e-01   \n",
       "75%    8.665951e-01       0.0       0.0  9.847288e-01  8.349799e-01   \n",
       "max    1.730999e+00       0.0       0.0  9.847288e-01  1.982694e+00   \n",
       "\n",
       "           RIDRETH1      RIDRETH3      RIDEXMON      DMDBORN4      DMDCITZN  \\\n",
       "count  9.813000e+03  9.813000e+03  9.813000e+03  9.813000e+03  9.813000e+03   \n",
       "mean   2.192614e-17  4.057807e-16  3.990603e-16 -5.110443e-17 -1.310104e-15   \n",
       "std    1.000051e+00  1.000051e+00  1.000051e+00  1.000051e+00  1.000051e+00   \n",
       "min   -1.650184e+00 -1.416713e+00 -1.017166e+00 -1.390983e-01 -2.871655e-01   \n",
       "25%   -8.582604e-01 -7.947736e-01 -1.017166e+00 -1.390983e-01 -2.871655e-01   \n",
       "50%   -6.633663e-02 -1.728347e-01  9.831241e-01 -1.390983e-01 -2.871655e-01   \n",
       "75%    7.255871e-01  4.491042e-01  9.831241e-01 -1.390983e-01 -2.871655e-01   \n",
       "max    1.517511e+00  2.314921e+00  9.831241e-01  4.797677e+01  2.296820e+01   \n",
       "\n",
       "       ...        DRD340        DRD360        URXUMA        URXUMS  \\\n",
       "count  ...  9.813000e+03  9.813000e+03  9.813000e+03  9.813000e+03   \n",
       "mean   ...  6.595944e-18 -2.613487e-17 -6.629886e-18  3.197279e-17   \n",
       "std    ...  1.000051e+00  1.000051e+00  1.000051e+00  1.000051e+00   \n",
       "min    ... -1.239705e+00 -1.537897e+00 -1.641090e+00 -2.232488e+00   \n",
       "25%    ... -1.054675e+00 -9.766310e-01 -7.365068e-01 -7.503462e-01   \n",
       "50%    ... -4.033087e-01 -2.141346e-01 -1.211135e-01 -2.226084e-01   \n",
       "75%    ...  1.314337e+00  1.016735e+00  7.263260e-01  1.031064e+00   \n",
       "max    ...  1.735305e+00  1.565903e+00  1.799853e+00  1.863324e+00   \n",
       "\n",
       "           URXUCR.x        URXCRS        URDACT        LBXSAL      LBDSALSI  \\\n",
       "count  9.813000e+03  9.813000e+03  9.813000e+03  9.813000e+03  9.813000e+03   \n",
       "mean  -3.254980e-17  1.733274e-17  1.712909e-17  2.525240e-17  1.731011e-17   \n",
       "std    1.000051e+00  1.000051e+00  1.000051e+00  1.000051e+00  1.000051e+00   \n",
       "min   -1.717146e+00 -2.135666e+00 -1.745580e+00 -2.028164e+00 -1.995169e+00   \n",
       "25%   -9.437948e-01 -7.884702e-01 -8.567073e-01 -8.424562e-01 -9.150260e-01   \n",
       "50%   -2.618338e-01  2.335002e-01  5.056937e-01  3.566948e-01 -5.123258e-02   \n",
       "75%    9.003270e-01  8.277328e-01  8.524805e-01  9.171456e-01  8.686700e-01   \n",
       "max    1.523652e+00  1.306299e+00  1.409813e+00  1.215246e+00  1.998478e+00   \n",
       "\n",
       "           LBXSAPSI  \n",
       "count  9.813000e+03  \n",
       "mean  -1.357656e-17  \n",
       "std    1.000051e+00  \n",
       "min   -1.707871e+00  \n",
       "25%   -7.359487e-01  \n",
       "50%   -4.406316e-01  \n",
       "75%    7.242583e-01  \n",
       "max    1.725715e+00  \n",
       "\n",
       "[8 rows x 159 columns]"
      ]
     },
     "execution_count": 7,
     "metadata": {},
     "output_type": "execute_result"
    }
   ],
   "source": [
    "scaler = StandardScaler()\n",
    "scaled_data = scaler.fit_transform(df_health)\n",
    "\n",
    "\n",
    "df_scaled = pd.DataFrame(scaled_data, columns = df_health.columns)\n",
    "\n",
    "df_scaled.describe()"
   ]
  },
  {
   "cell_type": "code",
   "execution_count": 8,
   "metadata": {},
   "outputs": [],
   "source": [
    "from sklearn.decomposition import PCA\n",
    "pca=PCA()\n",
    "pcadata=pca.fit_transform(df_scaled)"
   ]
  },
  {
   "cell_type": "code",
   "execution_count": 9,
   "metadata": {},
   "outputs": [
    {
     "data": {
      "text/plain": [
       "159"
      ]
     },
     "execution_count": 9,
     "metadata": {},
     "output_type": "execute_result"
    }
   ],
   "source": [
    "df_scaled.shape[1]"
   ]
  },
  {
   "cell_type": "code",
   "execution_count": 10,
   "metadata": {},
   "outputs": [
    {
     "name": "stdout",
     "output_type": "stream",
     "text": [
      "The number of principle components capturing 95 percent variation in data is :  83  Variance explained is  0.9500695310852093\n"
     ]
    }
   ],
   "source": [
    "from sklearn.decomposition import PCA \n",
    "pca = PCA(n_components = df_scaled.shape[1])\n",
    "pca_data = pca.fit_transform(df_scaled)\n",
    "exp_var_ratio= pca.explained_variance_ratio_\n",
    "exp_var_ratio.round(3)\n",
    "\n",
    "cum_var=exp_var_ratio[0]\n",
    "itr=2 # defined as two as first pc1 variance defined outside the loop\n",
    "for j in exp_var_ratio[1:]:\n",
    "    cum_var=cum_var+j\n",
    "    if cum_var >= 0.95:\n",
    "        break\n",
    "    itr=itr+1\n",
    "\n",
    "print('The number of principle components capturing 95 percent variation in data is : ',itr,' Variance explained is ', cum_var)"
   ]
  },
  {
   "cell_type": "code",
   "execution_count": 11,
   "metadata": {},
   "outputs": [
    {
     "data": {
      "image/png": "[encoded data removed]",
      "text/plain": [
       "<Figure size 432x288 with 1 Axes>"
      ]
     },
     "metadata": {
      "needs_background": "light"
     },
     "output_type": "display_data"
    }
   ],
   "source": [
    "plt.plot(np.cumsum(pca.explained_variance_ratio_))\n",
    "plt.xlabel('number of components')\n",
    "plt.ylabel('cumulative explained variance');"
   ]
  },
  {
   "cell_type": "code",
   "execution_count": 12,
   "metadata": {},
   "outputs": [
    {
     "name": "stdout",
     "output_type": "stream",
     "text": [
      "5 0.08856953400274342\n",
      "6 0.10164942473341237\n",
      "10 0.13284261854769816\n",
      "20 0.20892155837111895\n",
      "21 0.21526105889397237\n",
      "22 0.21728415289781156\n",
      "23 0.1875456875327759\n",
      "24 0.1637484478837534\n",
      "25 0.194727000766218\n",
      "26 0.1751506299781011\n",
      "27 0.18821744954098188\n",
      "28 0.18656144501589522\n",
      "29 0.17882772012978054\n",
      "30 0.20984508602977664\n",
      "40 0.1555901739721782\n",
      "45 0.12282549835300217\n",
      "50 0.12293611775671846\n"
     ]
    }
   ],
   "source": [
    "from sklearn.cluster import KMeans\n",
    "cl=[5,6,10,20,21,22,23,24,25,26,27,28,29,30,40,45,50]\n",
    "for k in cl:\n",
    "    clust_mod=KMeans(n_clusters=k,max_iter=1000,random_state=0)\n",
    "    clust_mod.fit(pcadata)\n",
    "    print(k,silhouette_score(pcadata,clust_mod.labels_))"
   ]
  },
  {
   "cell_type": "code",
   "execution_count": 13,
   "metadata": {},
   "outputs": [],
   "source": [
    "clusters = KMeans(n_clusters = 22, random_state = 10)\n",
    "\n",
    "# fit the model\n",
    "clusters.fit(pcadata)\n",
    "\n",
    "# create a copy of the original dataframe\n",
    "df_cluster = df_health.copy()\n",
    "\n",
    "\n",
    "# add the cluster labels as the new column in the dataframe\n",
    "df_cluster['Cluster_id'] = clusters.labels_"
   ]
  },
  {
   "cell_type": "code",
   "execution_count": 14,
   "metadata": {},
   "outputs": [
    {
     "name": "stdout",
     "output_type": "stream",
     "text": [
      "Silhouette Score for  20 clusters is  0.21490427497981698\n"
     ]
    },
    {
     "data": {
      "image/png": "[encoded data removed]",
      "text/plain": [
       "<Figure size 576x396 with 1 Axes>"
      ]
     },
     "metadata": {},
     "output_type": "display_data"
    },
    {
     "name": "stdout",
     "output_type": "stream",
     "text": [
      "Silhouette Score for  21 clusters is  0.18747027506106087\n"
     ]
    },
    {
     "data": {
      "image/png": "[encoded data removed]",
      "text/plain": [
       "<Figure size 576x396 with 1 Axes>"
      ]
     },
     "metadata": {},
     "output_type": "display_data"
    },
    {
     "name": "stdout",
     "output_type": "stream",
     "text": [
      "Silhouette Score for  22 clusters is  0.19216821829844188\n"
     ]
    },
    {
     "data": {
      "image/png": "[encoded data removed]",
      "text/plain": [
       "<Figure size 576x396 with 1 Axes>"
      ]
     },
     "metadata": {},
     "output_type": "display_data"
    },
    {
     "name": "stdout",
     "output_type": "stream",
     "text": [
      "Silhouette Score for  23 clusters is  0.21272544753649902\n"
     ]
    },
    {
     "data": {
      "image/png": "[encoded data removed]",
      "text/plain": [
       "<Figure size 576x396 with 1 Axes>"
      ]
     },
     "metadata": {},
     "output_type": "display_data"
    },
    {
     "name": "stdout",
     "output_type": "stream",
     "text": [
      "Silhouette Score for  24 clusters is  0.1734592254248911\n"
     ]
    },
    {
     "data": {
      "image/png": "[encoded data removed]",
      "text/plain": [
       "<Figure size 576x396 with 1 Axes>"
      ]
     },
     "metadata": {},
     "output_type": "display_data"
    }
   ],
   "source": [
    "from yellowbrick.cluster import SilhouetteVisualizer\n",
    "for i in range(20,25):\n",
    "    km = KMeans(n_clusters=i)\n",
    "    km.fit(pcadata)\n",
    "    sil_score = silhouette_score(pcadata, km.labels_)\n",
    "    \n",
    "    print('Silhouette Score for ', i , 'clusters is ',sil_score)\n",
    "    sil_km = SilhouetteVisualizer(km)\n",
    "    sil_km.fit(pcadata)\n",
    "    plt.show()"
   ]
  },
  {
   "cell_type": "code",
   "execution_count": 15,
   "metadata": {},
   "outputs": [
    {
     "data": {
      "text/html": [
       "<div>\n",
       "<style scoped>\n",
       "    .dataframe tbody tr th:only-of-type {\n",
       "        vertical-align: middle;\n",
       "    }\n",
       "\n",
       "    .dataframe tbody tr th {\n",
       "        vertical-align: top;\n",
       "    }\n",
       "\n",
       "    .dataframe thead th {\n",
       "        text-align: right;\n",
       "    }\n",
       "</style>\n",
       "<table border=\"1\" class=\"dataframe\">\n",
       "  <thead>\n",
       "    <tr style=\"text-align: right;\">\n",
       "      <th></th>\n",
       "      <th>SEQN</th>\n",
       "      <th>Cluster_id</th>\n",
       "    </tr>\n",
       "  </thead>\n",
       "  <tbody>\n",
       "    <tr>\n",
       "      <th>0</th>\n",
       "      <td>73557</td>\n",
       "      <td>19</td>\n",
       "    </tr>\n",
       "    <tr>\n",
       "      <th>1</th>\n",
       "      <td>73558</td>\n",
       "      <td>18</td>\n",
       "    </tr>\n",
       "    <tr>\n",
       "      <th>2</th>\n",
       "      <td>73559</td>\n",
       "      <td>12</td>\n",
       "    </tr>\n",
       "    <tr>\n",
       "      <th>3</th>\n",
       "      <td>73560</td>\n",
       "      <td>20</td>\n",
       "    </tr>\n",
       "    <tr>\n",
       "      <th>4</th>\n",
       "      <td>73561</td>\n",
       "      <td>3</td>\n",
       "    </tr>\n",
       "    <tr>\n",
       "      <th>5</th>\n",
       "      <td>73562</td>\n",
       "      <td>1</td>\n",
       "    </tr>\n",
       "    <tr>\n",
       "      <th>6</th>\n",
       "      <td>73563</td>\n",
       "      <td>14</td>\n",
       "    </tr>\n",
       "    <tr>\n",
       "      <th>7</th>\n",
       "      <td>73564</td>\n",
       "      <td>9</td>\n",
       "    </tr>\n",
       "    <tr>\n",
       "      <th>8</th>\n",
       "      <td>73566</td>\n",
       "      <td>3</td>\n",
       "    </tr>\n",
       "    <tr>\n",
       "      <th>9</th>\n",
       "      <td>73567</td>\n",
       "      <td>0</td>\n",
       "    </tr>\n",
       "    <tr>\n",
       "      <th>10</th>\n",
       "      <td>73568</td>\n",
       "      <td>18</td>\n",
       "    </tr>\n",
       "    <tr>\n",
       "      <th>11</th>\n",
       "      <td>73570</td>\n",
       "      <td>20</td>\n",
       "    </tr>\n",
       "    <tr>\n",
       "      <th>12</th>\n",
       "      <td>73571</td>\n",
       "      <td>0</td>\n",
       "    </tr>\n",
       "    <tr>\n",
       "      <th>13</th>\n",
       "      <td>73572</td>\n",
       "      <td>5</td>\n",
       "    </tr>\n",
       "    <tr>\n",
       "      <th>14</th>\n",
       "      <td>73573</td>\n",
       "      <td>20</td>\n",
       "    </tr>\n",
       "    <tr>\n",
       "      <th>15</th>\n",
       "      <td>73574</td>\n",
       "      <td>18</td>\n",
       "    </tr>\n",
       "    <tr>\n",
       "      <th>16</th>\n",
       "      <td>73575</td>\n",
       "      <td>6</td>\n",
       "    </tr>\n",
       "    <tr>\n",
       "      <th>17</th>\n",
       "      <td>73576</td>\n",
       "      <td>5</td>\n",
       "    </tr>\n",
       "    <tr>\n",
       "      <th>18</th>\n",
       "      <td>73577</td>\n",
       "      <td>13</td>\n",
       "    </tr>\n",
       "    <tr>\n",
       "      <th>19</th>\n",
       "      <td>73578</td>\n",
       "      <td>0</td>\n",
       "    </tr>\n",
       "  </tbody>\n",
       "</table>\n",
       "</div>"
      ],
      "text/plain": [
       "     SEQN  Cluster_id\n",
       "0   73557          19\n",
       "1   73558          18\n",
       "2   73559          12\n",
       "3   73560          20\n",
       "4   73561           3\n",
       "5   73562           1\n",
       "6   73563          14\n",
       "7   73564           9\n",
       "8   73566           3\n",
       "9   73567           0\n",
       "10  73568          18\n",
       "11  73570          20\n",
       "12  73571           0\n",
       "13  73572           5\n",
       "14  73573          20\n",
       "15  73574          18\n",
       "16  73575           6\n",
       "17  73576           5\n",
       "18  73577          13\n",
       "19  73578           0"
      ]
     },
     "execution_count": 15,
     "metadata": {},
     "output_type": "execute_result"
    }
   ],
   "source": [
    "df_cluster[['SEQN','Cluster_id']].head(20)"
   ]
  },
  {
   "cell_type": "code",
   "execution_count": 16,
   "metadata": {},
   "outputs": [],
   "source": [
    "df_cluster[['SEQN','Cluster_id']].to_csv('/Users/swatiraman/Downloads/SwatiRaman_3.csv')"
   ]
  },
  {
   "cell_type": "code",
   "execution_count": null,
   "metadata": {},
   "outputs": [],
   "source": []
  }
 ],
 "metadata": {
  "kernelspec": {
   "display_name": "Python 3",
   "language": "python",
   "name": "python3"
  },
  "language_info": {
   "codemirror_mode": {
    "name": "ipython",
    "version": 3
   },
   "file_extension": ".py",
   "mimetype": "text/x-python",
   "name": "python",
   "nbconvert_exporter": "python",
   "pygments_lexer": "ipython3",
   "version": "3.8.3"
  }
 },
 "nbformat": 4,
 "nbformat_minor": 4
}
