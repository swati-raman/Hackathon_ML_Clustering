{
 "cells": [
  {
   "cell_type": "code",
   "execution_count": 1,
   "metadata": {},
   "outputs": [],
   "source": [
    "# import 'numpy' to compute high-level mathematics functions \n",
    "import numpy as np\n",
    "\n",
    "# import 'pandas' to perform data manipulation\n",
    "import pandas as pd\n",
    "\n",
    "# import 'matplotlib.pyplot' for visualization\n",
    "import matplotlib.pyplot as plt\n",
    "\n",
    "# import 'seaborn' for high-level statistical graphics\n",
    "import seaborn as sns\n",
    "\n",
    "\n",
    "\n",
    "# run below code to convert the 'exponential' values to float\n",
    "np.set_printoptions(suppress = True)\n",
    "\n",
    "# import functions from sklearn to perform clustering\n",
    "from sklearn.preprocessing import MinMaxScaler\n",
    "from sklearn.preprocessing import StandardScaler\n",
    "from sklearn.metrics import silhouette_score \n",
    "\n"
   ]
  },
  {
   "cell_type": "code",
   "execution_count": 2,
   "metadata": {},
   "outputs": [
    {
     "data": {
      "text/html": [
       "<div>\n",
       "<style scoped>\n",
       "    .dataframe tbody tr th:only-of-type {\n",
       "        vertical-align: middle;\n",
       "    }\n",
       "\n",
       "    .dataframe tbody tr th {\n",
       "        vertical-align: top;\n",
       "    }\n",
       "\n",
       "    .dataframe thead th {\n",
       "        text-align: right;\n",
       "    }\n",
       "</style>\n",
       "<table border=\"1\" class=\"dataframe\">\n",
       "  <thead>\n",
       "    <tr style=\"text-align: right;\">\n",
       "      <th></th>\n",
       "      <th>SEQN</th>\n",
       "      <th>SDDSRVYR</th>\n",
       "      <th>RIDSTATR</th>\n",
       "      <th>RIAGENDR</th>\n",
       "      <th>RIDAGEYR</th>\n",
       "      <th>RIDAGEMN</th>\n",
       "      <th>RIDRETH1</th>\n",
       "      <th>RIDRETH3</th>\n",
       "      <th>RIDEXMON</th>\n",
       "      <th>RIDEXAGM</th>\n",
       "      <th>...</th>\n",
       "      <th>DRD340</th>\n",
       "      <th>DRD360</th>\n",
       "      <th>URXUMA</th>\n",
       "      <th>URXUMS</th>\n",
       "      <th>URXUCR.x</th>\n",
       "      <th>URXCRS</th>\n",
       "      <th>URDACT</th>\n",
       "      <th>LBXSAL</th>\n",
       "      <th>LBDSALSI</th>\n",
       "      <th>LBXSAPSI</th>\n",
       "    </tr>\n",
       "  </thead>\n",
       "  <tbody>\n",
       "    <tr>\n",
       "      <th>0</th>\n",
       "      <td>73557</td>\n",
       "      <td>8</td>\n",
       "      <td>2</td>\n",
       "      <td>1</td>\n",
       "      <td>69</td>\n",
       "      <td>NaN</td>\n",
       "      <td>4</td>\n",
       "      <td>4</td>\n",
       "      <td>1</td>\n",
       "      <td>NaN</td>\n",
       "      <td>...</td>\n",
       "      <td>6.586219</td>\n",
       "      <td>-6.527018</td>\n",
       "      <td>9.182882</td>\n",
       "      <td>-9.018023</td>\n",
       "      <td>-6.181923</td>\n",
       "      <td>5.151193</td>\n",
       "      <td>-9.708139</td>\n",
       "      <td>2.814690</td>\n",
       "      <td>-2.712184</td>\n",
       "      <td>-6.811191</td>\n",
       "    </tr>\n",
       "    <tr>\n",
       "      <th>1</th>\n",
       "      <td>73558</td>\n",
       "      <td>8</td>\n",
       "      <td>2</td>\n",
       "      <td>1</td>\n",
       "      <td>54</td>\n",
       "      <td>NaN</td>\n",
       "      <td>3</td>\n",
       "      <td>3</td>\n",
       "      <td>1</td>\n",
       "      <td>NaN</td>\n",
       "      <td>...</td>\n",
       "      <td>-9.588554</td>\n",
       "      <td>1.863741</td>\n",
       "      <td>-9.378731</td>\n",
       "      <td>8.289190</td>\n",
       "      <td>-2.561066</td>\n",
       "      <td>-3.755943</td>\n",
       "      <td>1.406037</td>\n",
       "      <td>7.590942</td>\n",
       "      <td>0.480820</td>\n",
       "      <td>-4.636475</td>\n",
       "    </tr>\n",
       "    <tr>\n",
       "      <th>2</th>\n",
       "      <td>73559</td>\n",
       "      <td>8</td>\n",
       "      <td>2</td>\n",
       "      <td>1</td>\n",
       "      <td>72</td>\n",
       "      <td>NaN</td>\n",
       "      <td>3</td>\n",
       "      <td>3</td>\n",
       "      <td>2</td>\n",
       "      <td>NaN</td>\n",
       "      <td>...</td>\n",
       "      <td>-5.229054</td>\n",
       "      <td>6.379788</td>\n",
       "      <td>-9.433054</td>\n",
       "      <td>-9.285869</td>\n",
       "      <td>9.248429</td>\n",
       "      <td>-7.439368</td>\n",
       "      <td>8.374918</td>\n",
       "      <td>8.401561</td>\n",
       "      <td>-9.936335</td>\n",
       "      <td>0.913262</td>\n",
       "    </tr>\n",
       "    <tr>\n",
       "      <th>3</th>\n",
       "      <td>73560</td>\n",
       "      <td>8</td>\n",
       "      <td>2</td>\n",
       "      <td>1</td>\n",
       "      <td>9</td>\n",
       "      <td>NaN</td>\n",
       "      <td>3</td>\n",
       "      <td>3</td>\n",
       "      <td>1</td>\n",
       "      <td>119.0</td>\n",
       "      <td>...</td>\n",
       "      <td>7.428271</td>\n",
       "      <td>-1.193575</td>\n",
       "      <td>6.972074</td>\n",
       "      <td>-0.257756</td>\n",
       "      <td>-5.087773</td>\n",
       "      <td>8.581422</td>\n",
       "      <td>4.767615</td>\n",
       "      <td>9.760521</td>\n",
       "      <td>-4.708915</td>\n",
       "      <td>7.624684</td>\n",
       "    </tr>\n",
       "    <tr>\n",
       "      <th>4</th>\n",
       "      <td>73561</td>\n",
       "      <td>8</td>\n",
       "      <td>2</td>\n",
       "      <td>2</td>\n",
       "      <td>73</td>\n",
       "      <td>NaN</td>\n",
       "      <td>3</td>\n",
       "      <td>3</td>\n",
       "      <td>1</td>\n",
       "      <td>NaN</td>\n",
       "      <td>...</td>\n",
       "      <td>2.125105</td>\n",
       "      <td>-2.906226</td>\n",
       "      <td>1.977286</td>\n",
       "      <td>-1.322955</td>\n",
       "      <td>-1.034636</td>\n",
       "      <td>6.702919</td>\n",
       "      <td>-1.735375</td>\n",
       "      <td>-4.799543</td>\n",
       "      <td>1.194572</td>\n",
       "      <td>-7.098007</td>\n",
       "    </tr>\n",
       "  </tbody>\n",
       "</table>\n",
       "<p>5 rows × 636 columns</p>\n",
       "</div>"
      ],
      "text/plain": [
       "    SEQN  SDDSRVYR  RIDSTATR  RIAGENDR  RIDAGEYR  RIDAGEMN  RIDRETH1  \\\n",
       "0  73557         8         2         1        69       NaN         4   \n",
       "1  73558         8         2         1        54       NaN         3   \n",
       "2  73559         8         2         1        72       NaN         3   \n",
       "3  73560         8         2         1         9       NaN         3   \n",
       "4  73561         8         2         2        73       NaN         3   \n",
       "\n",
       "   RIDRETH3  RIDEXMON  RIDEXAGM  ...    DRD340    DRD360    URXUMA    URXUMS  \\\n",
       "0         4         1       NaN  ...  6.586219 -6.527018  9.182882 -9.018023   \n",
       "1         3         1       NaN  ... -9.588554  1.863741 -9.378731  8.289190   \n",
       "2         3         2       NaN  ... -5.229054  6.379788 -9.433054 -9.285869   \n",
       "3         3         1     119.0  ...  7.428271 -1.193575  6.972074 -0.257756   \n",
       "4         3         1       NaN  ...  2.125105 -2.906226  1.977286 -1.322955   \n",
       "\n",
       "   URXUCR.x    URXCRS    URDACT    LBXSAL  LBDSALSI  LBXSAPSI  \n",
       "0 -6.181923  5.151193 -9.708139  2.814690 -2.712184 -6.811191  \n",
       "1 -2.561066 -3.755943  1.406037  7.590942  0.480820 -4.636475  \n",
       "2  9.248429 -7.439368  8.374918  8.401561 -9.936335  0.913262  \n",
       "3 -5.087773  8.581422  4.767615  9.760521 -4.708915  7.624684  \n",
       "4 -1.034636  6.702919 -1.735375 -4.799543  1.194572 -7.098007  \n",
       "\n",
       "[5 rows x 636 columns]"
      ]
     },
     "execution_count": 2,
     "metadata": {},
     "output_type": "execute_result"
    }
   ],
   "source": [
    "df_health = pd.read_csv(\"/Users/swatiraman/Downloads/drive-download-20210428T114902Z-001/df.csv\")\n",
    "df_health.head()"
   ]
  },
  {
   "cell_type": "code",
   "execution_count": 3,
   "metadata": {},
   "outputs": [],
   "source": [
    "for i in df_health.columns:\n",
    "    if (df_health[i].isnull().sum() > 100):\n",
    "        df_health.drop(i,axis=1,inplace=True)"
   ]
  },
  {
   "cell_type": "code",
   "execution_count": 4,
   "metadata": {},
   "outputs": [
    {
     "name": "stdout",
     "output_type": "stream",
     "text": [
      "DMDCITZN contain almost all null values 4\n",
      "SIAPROXY contain almost all null values 1\n"
     ]
    }
   ],
   "source": [
    "for i in df_health.columns:\n",
    "    if (df_health[i].isnull().sum() > 0 ):\n",
    "        #df[i].fillna(df[i].median,inplace=True)\n",
    "        print(i,'contain almost all null values',df_health[i].isnull().sum())"
   ]
  },
  {
   "cell_type": "code",
   "execution_count": 5,
   "metadata": {},
   "outputs": [
    {
     "data": {
      "text/plain": [
       "Index(['SEQN', 'SDDSRVYR', 'RIDSTATR', 'RIAGENDR', 'RIDAGEYR', 'RIDRETH1',\n",
       "       'RIDRETH3', 'RIDEXMON', 'DMDBORN4', 'DMDCITZN', 'SIALANG', 'SIAPROXY',\n",
       "       'SIAINTRP', 'DMDHHSIZ', 'DMDFMSIZ', 'DMDHHSZA', 'DMDHHSZB', 'DMDHHSZE',\n",
       "       'DMDHRGND', 'DMDHRAGE', 'WTINT2YR', 'WTMEC2YR', 'SDMVPSU', 'SDMVSTRA',\n",
       "       'WTDRD1', 'DR1DRSTZ', 'DR1TALCO', 'DR1TMOIS', 'DR1TS040', 'DR1TS060',\n",
       "       'DR1TS080', 'DR1TS100', 'DR1TS120', 'DR1TS140', 'DR1TS160', 'DR1TS180',\n",
       "       'DR1TM161', 'DR1TM181', 'DR1TM201', 'DR1TM221', 'DR1TP182', 'DR1TP183',\n",
       "       'DR1TP184', 'DR1TP204', 'DR1TP205', 'DR1TP225', 'DR1TP226', 'DR1.300',\n",
       "       'DR1.320Z', 'DR1.330Z', 'DR1BWATZ', 'DR1TFA', 'DR1TFF', 'DR1TFDFE',\n",
       "       'DR1TCHL', 'DR1TVB12', 'DR1TB12A', 'DR1TVC', 'DR1TVD', 'DR1TVK',\n",
       "       'DR1TCALC', 'DR1TPHOS', 'DR1TMAGN', 'DR1TIRON', 'DR1TZINC', 'DR1TCOPP',\n",
       "       'DR1TSODI', 'DR1TPOTA', 'DR1TSELE', 'DR1TCAFF', 'DR1TTHEO', 'DRD340',\n",
       "       'DRD360', 'URXUMA', 'URXUMS', 'URXUCR.x', 'URXCRS', 'URDACT', 'LBXSAL',\n",
       "       'LBDSALSI', 'LBXSAPSI'],\n",
       "      dtype='object')"
      ]
     },
     "execution_count": 5,
     "metadata": {},
     "output_type": "execute_result"
    }
   ],
   "source": [
    "df_health.columns"
   ]
  },
  {
   "cell_type": "code",
   "execution_count": 6,
   "metadata": {},
   "outputs": [],
   "source": [
    "corr_matrix = df_health[[ 'RIAGENDR', 'RIDAGEYR', 'RIDRETH1',\n",
    "       'RIDRETH3', 'RIDEXMON', 'DMDBORN4', 'DMDCITZN', 'SIALANG', 'SIAPROXY',\n",
    "       'SIAINTRP', 'DMDHHSIZ', 'DMDFMSIZ', 'DMDHHSZA', 'DMDHHSZB', 'DMDHHSZE',\n",
    "       'DMDHRGND', 'DMDHRAGE', 'WTINT2YR', 'WTMEC2YR', 'SDMVPSU', 'SDMVSTRA',\n",
    "       'WTDRD1', 'DR1DRSTZ', 'DR1TALCO', 'DR1TMOIS', 'DR1TS040', 'DR1TS060',\n",
    "       'DR1TS080', 'DR1TS100', 'DR1TS120', 'DR1TS140', 'DR1TS160', 'DR1TS180',\n",
    "       'DR1TM161', 'DR1TM181', 'DR1TM201', 'DR1TM221', 'DR1TP182', 'DR1TP183',\n",
    "       'DR1TP184', 'DR1TP204', 'DR1TP205', 'DR1TP225', 'DR1TP226', 'DR1.300',\n",
    "       'DR1.320Z', 'DR1.330Z', 'DR1BWATZ', 'DR1TFA', 'DR1TFF', 'DR1TFDFE',\n",
    "       'DR1TCHL', 'DR1TVB12', 'DR1TB12A', 'DR1TVC', 'DR1TVD', 'DR1TVK',\n",
    "       'DR1TCALC', 'DR1TPHOS', 'DR1TMAGN', 'DR1TIRON', 'DR1TZINC', 'DR1TCOPP',\n",
    "       'DR1TSODI', 'DR1TPOTA', 'DR1TSELE', 'DR1TCAFF', 'DR1TTHEO', 'DRD340',\n",
    "       'DRD360', 'URXUMA', 'URXUMS', 'URXUCR.x', 'URXCRS', 'URDACT', 'LBXSAL',\n",
    "       'LBDSALSI', 'LBXSAPSI']].corr()"
   ]
  },
  {
   "cell_type": "code",
   "execution_count": 7,
   "metadata": {},
   "outputs": [],
   "source": [
    "upper = corr_matrix.where(np.triu(np.ones(corr_matrix.shape), k=1).astype(np.bool))"
   ]
  },
  {
   "cell_type": "code",
   "execution_count": 8,
   "metadata": {},
   "outputs": [],
   "source": [
    "to_drop = [column for column in upper.columns if any(upper[column] > 0.75)]"
   ]
  },
  {
   "cell_type": "code",
   "execution_count": 9,
   "metadata": {},
   "outputs": [
    {
     "data": {
      "text/plain": [
       "['RIDRETH3', 'SIAPROXY', 'DMDFMSIZ', 'WTMEC2YR', 'WTDRD1']"
      ]
     },
     "execution_count": 9,
     "metadata": {},
     "output_type": "execute_result"
    }
   ],
   "source": [
    "to_drop"
   ]
  },
  {
   "cell_type": "code",
   "execution_count": 10,
   "metadata": {},
   "outputs": [
    {
     "name": "stdout",
     "output_type": "stream",
     "text": [
      "['DRD360']\n"
     ]
    }
   ],
   "source": [
    "to_drop_1 = [column for column in upper.columns if any(upper[column] < -0.75)]\n",
    "print(to_drop_1)"
   ]
  },
  {
   "cell_type": "code",
   "execution_count": 11,
   "metadata": {},
   "outputs": [],
   "source": [
    "df_health.drop(to_drop,axis=1,inplace=True)"
   ]
  },
  {
   "cell_type": "code",
   "execution_count": 12,
   "metadata": {},
   "outputs": [],
   "source": [
    "df_health.drop(to_drop_1,axis=1,inplace=True)"
   ]
  },
  {
   "cell_type": "code",
   "execution_count": 13,
   "metadata": {},
   "outputs": [
    {
     "data": {
      "text/plain": [
       "SEQN        False\n",
       "SDDSRVYR    False\n",
       "RIDSTATR    False\n",
       "RIAGENDR    False\n",
       "RIDAGEYR    False\n",
       "            ...  \n",
       "URXCRS      False\n",
       "URDACT      False\n",
       "LBXSAL      False\n",
       "LBDSALSI    False\n",
       "LBXSAPSI    False\n",
       "Length: 75, dtype: bool"
      ]
     },
     "execution_count": 13,
     "metadata": {},
     "output_type": "execute_result"
    }
   ],
   "source": [
    "df_health.std()==True"
   ]
  },
  {
   "cell_type": "code",
   "execution_count": 14,
   "metadata": {},
   "outputs": [
    {
     "name": "stdout",
     "output_type": "stream",
     "text": [
      "SDDSRVYR\n",
      "RIDSTATR\n"
     ]
    }
   ],
   "source": [
    "for i in df_health.columns:\n",
    "    if len(df_health[i].unique()) == 1:\n",
    "        print(i)\n",
    "        df_health.drop(i,axis=1,inplace=True)"
   ]
  },
  {
   "cell_type": "code",
   "execution_count": 15,
   "metadata": {},
   "outputs": [
    {
     "data": {
      "text/plain": [
       "(9813, 73)"
      ]
     },
     "execution_count": 15,
     "metadata": {},
     "output_type": "execute_result"
    }
   ],
   "source": [
    "df_health.shape"
   ]
  },
  {
   "cell_type": "code",
   "execution_count": 16,
   "metadata": {},
   "outputs": [
    {
     "name": "stdout",
     "output_type": "stream",
     "text": [
      "SEQN 9813\n",
      "RIAGENDR 2\n",
      "RIDAGEYR 81\n",
      "RIDRETH1 5\n",
      "RIDEXMON 2\n",
      "DMDBORN4 3\n",
      "DMDCITZN 5\n",
      "SIALANG 2\n",
      "SIAINTRP 2\n",
      "DMDHHSIZ 7\n",
      "DMDHHSZA 4\n",
      "DMDHHSZB 5\n",
      "DMDHHSZE 4\n",
      "DMDHRGND 2\n",
      "DMDHRAGE 63\n",
      "WTINT2YR 6861\n",
      "SDMVPSU 2\n",
      "SDMVSTRA 15\n",
      "DR1DRSTZ 4\n",
      "DR1TALCO 9813\n",
      "DR1TMOIS 9813\n",
      "DR1TS040 9813\n",
      "DR1TS060 9813\n",
      "DR1TS080 9813\n",
      "DR1TS100 9813\n",
      "DR1TS120 9813\n",
      "DR1TS140 9813\n",
      "DR1TS160 9813\n",
      "DR1TS180 9813\n",
      "DR1TM161 9813\n",
      "DR1TM181 9813\n",
      "DR1TM201 9813\n",
      "DR1TM221 9813\n",
      "DR1TP182 9813\n",
      "DR1TP183 9813\n",
      "DR1TP184 9813\n",
      "DR1TP204 9813\n",
      "DR1TP205 9813\n",
      "DR1TP225 9813\n",
      "DR1TP226 9813\n",
      "DR1.300 9813\n",
      "DR1.320Z 9813\n",
      "DR1.330Z 9812\n",
      "DR1BWATZ 9812\n",
      "DR1TFA 9813\n",
      "DR1TFF 9813\n",
      "DR1TFDFE 9813\n",
      "DR1TCHL 9813\n",
      "DR1TVB12 9813\n",
      "DR1TB12A 9813\n",
      "DR1TVC 9813\n",
      "DR1TVD 9813\n",
      "DR1TVK 9813\n",
      "DR1TCALC 9813\n",
      "DR1TPHOS 9813\n",
      "DR1TMAGN 9812\n",
      "DR1TIRON 9813\n",
      "DR1TZINC 9813\n",
      "DR1TCOPP 9813\n",
      "DR1TSODI 9813\n",
      "DR1TPOTA 9813\n",
      "DR1TSELE 9813\n",
      "DR1TCAFF 9813\n",
      "DR1TTHEO 9812\n",
      "DRD340 9813\n",
      "URXUMA 9812\n",
      "URXUMS 9812\n",
      "URXUCR.x 9812\n",
      "URXCRS 9813\n",
      "URDACT 9813\n",
      "LBXSAL 9813\n",
      "LBDSALSI 9813\n",
      "LBXSAPSI 9813\n"
     ]
    }
   ],
   "source": [
    "for i in df_health.columns:\n",
    "    print(i,len(df_health[i].unique()))"
   ]
  },
  {
   "cell_type": "raw",
   "metadata": {},
   "source": [
    "for i in df_health.columns:\n",
    "    if (df_health[i].isnull().sum() == 1282 ):\n",
    "        df_health.drop(i,axis=1,inplace=True)\n",
    "        #print(i,'contain almost all null values',df_health[i].isnull().sum())"
   ]
  },
  {
   "cell_type": "raw",
   "metadata": {},
   "source": [
    "df = df_health.drop(['SEQN','ORXGH','ORXGL','ORXH06','ORXH11','ORXH16','ORXH18','ORXH26','ORXH31','ORXH33','ORXH35','ORXH39',\n",
    "'ORXH40','ORXH42','ORXH45','ORXH51','ORXH52','ORXH53','ORXH54','ORXH55','ORXH56','ORXH58','ORXH59','ORXH61',\n",
    "'ORXH62','ORXH64','ORXH66','ORXH67','ORXH68','ORXH69','ORXH70','ORXH71','ORXH72','ORXH73','ORXH81','ORXH82',\n",
    "'ORXH83','ORXH84','ORXHPC','ORXHPI','PHDSESN','DRD370A','DRD370B','DRD370C','DRD370D','DRD370E','DRD370F',\n",
    "'DRD370G','DRD370H','DRD370I','DRD370J','DRD370K','DRD370L','DRD370M','DRD370N','DRD370O','DRD370P','DRD370Q',\n",
    "'DRD370R', 'DRD370S','DRD370T','DRD370U','DRD370V','WTDR2D','LBXHBC','LBXTC','DR1TVARA','DR1TACAR','DR1TBCAR',\n",
    "'DR1TCRYP','DR1TLYCO','DR1TATOC','DR1TCHOL','DR1TKCAL','DR1STY','DRQSPREP','DBQ095Z','DR1DAY','DR1DBIH',\n",
    "'DRDINT','DRABF','WTSH2YR.x','LBXIHG','LBDIHGLC','LBDBGELC','LBDBGMLC','LBXBPB','LBDBPBSI','LBXBCD',\n",
    "'LBDBCDSI','LBXTHG','DBD100','DMDMARTL','DMQMILIZ','AIALANGA','DBD100','DBQ095Z','DMDHHSIZ','DMDHHSZA','DMDHRBR4',\n",
    "'DMDHREDU','DMDHRGND','DMDHRMAR','DMDYRSUS','DMQADFC','DMQMILIZ','DR1.300','DR1.300','DR1.320Z','DR1.320Z',\n",
    "'DR1.330Z','DR1.330Z','DR1BWATZ','DR1HELPD','DR1LANG','DR1MNRSP','DR1SKY','DR1STY','DR1TACAR','DR1TALCO',\n",
    "'DR1TALCO','DR1TCALC','DR1TCHOL','DR1TCOPP'],axis=1)\n"
   ]
  },
  {
   "cell_type": "code",
   "execution_count": 17,
   "metadata": {},
   "outputs": [
    {
     "data": {
      "text/plain": [
       "(9813, 73)"
      ]
     },
     "execution_count": 17,
     "metadata": {},
     "output_type": "execute_result"
    }
   ],
   "source": [
    "df_health.shape"
   ]
  },
  {
   "cell_type": "raw",
   "metadata": {},
   "source": [
    "df.head()"
   ]
  },
  {
   "cell_type": "raw",
   "metadata": {},
   "source": [
    "df.shape"
   ]
  },
  {
   "cell_type": "code",
   "execution_count": 18,
   "metadata": {},
   "outputs": [
    {
     "data": {
      "text/html": [
       "<div>\n",
       "<style scoped>\n",
       "    .dataframe tbody tr th:only-of-type {\n",
       "        vertical-align: middle;\n",
       "    }\n",
       "\n",
       "    .dataframe tbody tr th {\n",
       "        vertical-align: top;\n",
       "    }\n",
       "\n",
       "    .dataframe thead th {\n",
       "        text-align: right;\n",
       "    }\n",
       "</style>\n",
       "<table border=\"1\" class=\"dataframe\">\n",
       "  <thead>\n",
       "    <tr style=\"text-align: right;\">\n",
       "      <th></th>\n",
       "      <th>SEQN</th>\n",
       "      <th>RIAGENDR</th>\n",
       "      <th>RIDAGEYR</th>\n",
       "      <th>RIDRETH1</th>\n",
       "      <th>RIDEXMON</th>\n",
       "      <th>DMDBORN4</th>\n",
       "      <th>DMDCITZN</th>\n",
       "      <th>SIALANG</th>\n",
       "      <th>SIAINTRP</th>\n",
       "      <th>DMDHHSIZ</th>\n",
       "      <th>...</th>\n",
       "      <th>DR1TTHEO</th>\n",
       "      <th>DRD340</th>\n",
       "      <th>URXUMA</th>\n",
       "      <th>URXUMS</th>\n",
       "      <th>URXUCR.x</th>\n",
       "      <th>URXCRS</th>\n",
       "      <th>URDACT</th>\n",
       "      <th>LBXSAL</th>\n",
       "      <th>LBDSALSI</th>\n",
       "      <th>LBXSAPSI</th>\n",
       "    </tr>\n",
       "  </thead>\n",
       "  <tbody>\n",
       "    <tr>\n",
       "      <th>count</th>\n",
       "      <td>9813.000000</td>\n",
       "      <td>9813.000000</td>\n",
       "      <td>9813.000000</td>\n",
       "      <td>9813.000000</td>\n",
       "      <td>9813.000000</td>\n",
       "      <td>9813.000000</td>\n",
       "      <td>9809.000000</td>\n",
       "      <td>9813.000000</td>\n",
       "      <td>9813.000000</td>\n",
       "      <td>9813.000000</td>\n",
       "      <td>...</td>\n",
       "      <td>9813.000000</td>\n",
       "      <td>9813.000000</td>\n",
       "      <td>9813.000000</td>\n",
       "      <td>9813.000000</td>\n",
       "      <td>9813.000000</td>\n",
       "      <td>9813.000000</td>\n",
       "      <td>9813.000000</td>\n",
       "      <td>9813.000000</td>\n",
       "      <td>9813.000000</td>\n",
       "      <td>9813.000000</td>\n",
       "    </tr>\n",
       "    <tr>\n",
       "      <th>mean</th>\n",
       "      <td>78644.559971</td>\n",
       "      <td>1.507694</td>\n",
       "      <td>31.629573</td>\n",
       "      <td>3.083766</td>\n",
       "      <td>1.508509</td>\n",
       "      <td>1.219709</td>\n",
       "      <td>1.098787</td>\n",
       "      <td>1.106491</td>\n",
       "      <td>1.965964</td>\n",
       "      <td>3.880465</td>\n",
       "      <td>...</td>\n",
       "      <td>-0.759246</td>\n",
       "      <td>-1.734956</td>\n",
       "      <td>-0.711343</td>\n",
       "      <td>0.820030</td>\n",
       "      <td>0.511885</td>\n",
       "      <td>2.087264</td>\n",
       "      <td>1.037003</td>\n",
       "      <td>2.810665</td>\n",
       "      <td>-0.255001</td>\n",
       "      <td>-0.679591</td>\n",
       "    </tr>\n",
       "    <tr>\n",
       "      <th>std</th>\n",
       "      <td>2938.592266</td>\n",
       "      <td>0.499966</td>\n",
       "      <td>24.397553</td>\n",
       "      <td>1.262812</td>\n",
       "      <td>0.499953</td>\n",
       "      <td>1.579601</td>\n",
       "      <td>0.344094</td>\n",
       "      <td>0.308481</td>\n",
       "      <td>0.181332</td>\n",
       "      <td>1.724762</td>\n",
       "      <td>...</td>\n",
       "      <td>5.269205</td>\n",
       "      <td>6.665694</td>\n",
       "      <td>5.514023</td>\n",
       "      <td>4.847528</td>\n",
       "      <td>5.927111</td>\n",
       "      <td>5.582975</td>\n",
       "      <td>6.174046</td>\n",
       "      <td>5.767382</td>\n",
       "      <td>4.868527</td>\n",
       "      <td>5.174773</td>\n",
       "    </tr>\n",
       "    <tr>\n",
       "      <th>min</th>\n",
       "      <td>73557.000000</td>\n",
       "      <td>1.000000</td>\n",
       "      <td>0.000000</td>\n",
       "      <td>1.000000</td>\n",
       "      <td>1.000000</td>\n",
       "      <td>1.000000</td>\n",
       "      <td>1.000000</td>\n",
       "      <td>1.000000</td>\n",
       "      <td>1.000000</td>\n",
       "      <td>1.000000</td>\n",
       "      <td>...</td>\n",
       "      <td>-10.014475</td>\n",
       "      <td>-9.998027</td>\n",
       "      <td>-9.759888</td>\n",
       "      <td>-10.001466</td>\n",
       "      <td>-9.665313</td>\n",
       "      <td>-9.835496</td>\n",
       "      <td>-9.739738</td>\n",
       "      <td>-8.885937</td>\n",
       "      <td>-9.968040</td>\n",
       "      <td>-9.516987</td>\n",
       "    </tr>\n",
       "    <tr>\n",
       "      <th>25%</th>\n",
       "      <td>76092.000000</td>\n",
       "      <td>1.000000</td>\n",
       "      <td>10.000000</td>\n",
       "      <td>2.000000</td>\n",
       "      <td>1.000000</td>\n",
       "      <td>1.000000</td>\n",
       "      <td>1.000000</td>\n",
       "      <td>1.000000</td>\n",
       "      <td>2.000000</td>\n",
       "      <td>2.000000</td>\n",
       "      <td>...</td>\n",
       "      <td>-3.707880</td>\n",
       "      <td>-8.764742</td>\n",
       "      <td>-4.772251</td>\n",
       "      <td>-2.817109</td>\n",
       "      <td>-5.081807</td>\n",
       "      <td>-2.314521</td>\n",
       "      <td>-4.252078</td>\n",
       "      <td>-2.047854</td>\n",
       "      <td>-4.709602</td>\n",
       "      <td>-4.487764</td>\n",
       "    </tr>\n",
       "    <tr>\n",
       "      <th>50%</th>\n",
       "      <td>78643.000000</td>\n",
       "      <td>2.000000</td>\n",
       "      <td>27.000000</td>\n",
       "      <td>3.000000</td>\n",
       "      <td>2.000000</td>\n",
       "      <td>1.000000</td>\n",
       "      <td>1.000000</td>\n",
       "      <td>1.000000</td>\n",
       "      <td>2.000000</td>\n",
       "      <td>4.000000</td>\n",
       "      <td>...</td>\n",
       "      <td>-1.614540</td>\n",
       "      <td>-4.423152</td>\n",
       "      <td>-1.379131</td>\n",
       "      <td>-0.259016</td>\n",
       "      <td>-1.039955</td>\n",
       "      <td>3.390824</td>\n",
       "      <td>4.159020</td>\n",
       "      <td>4.867756</td>\n",
       "      <td>-0.504415</td>\n",
       "      <td>-2.959643</td>\n",
       "    </tr>\n",
       "    <tr>\n",
       "      <th>75%</th>\n",
       "      <td>81191.000000</td>\n",
       "      <td>2.000000</td>\n",
       "      <td>52.000000</td>\n",
       "      <td>4.000000</td>\n",
       "      <td>2.000000</td>\n",
       "      <td>1.000000</td>\n",
       "      <td>1.000000</td>\n",
       "      <td>1.000000</td>\n",
       "      <td>2.000000</td>\n",
       "      <td>5.000000</td>\n",
       "      <td>...</td>\n",
       "      <td>2.172646</td>\n",
       "      <td>7.025565</td>\n",
       "      <td>3.293431</td>\n",
       "      <td>5.817885</td>\n",
       "      <td>5.847951</td>\n",
       "      <td>6.708240</td>\n",
       "      <td>6.299989</td>\n",
       "      <td>8.099925</td>\n",
       "      <td>3.973927</td>\n",
       "      <td>3.068091</td>\n",
       "    </tr>\n",
       "    <tr>\n",
       "      <th>max</th>\n",
       "      <td>83731.000000</td>\n",
       "      <td>2.000000</td>\n",
       "      <td>80.000000</td>\n",
       "      <td>5.000000</td>\n",
       "      <td>2.000000</td>\n",
       "      <td>77.000000</td>\n",
       "      <td>9.000000</td>\n",
       "      <td>2.000000</td>\n",
       "      <td>2.000000</td>\n",
       "      <td>7.000000</td>\n",
       "      <td>...</td>\n",
       "      <td>9.826129</td>\n",
       "      <td>9.831464</td>\n",
       "      <td>9.212580</td>\n",
       "      <td>9.852084</td>\n",
       "      <td>9.542277</td>\n",
       "      <td>9.379928</td>\n",
       "      <td>9.740811</td>\n",
       "      <td>9.819095</td>\n",
       "      <td>9.474146</td>\n",
       "      <td>8.250141</td>\n",
       "    </tr>\n",
       "  </tbody>\n",
       "</table>\n",
       "<p>8 rows × 73 columns</p>\n",
       "</div>"
      ],
      "text/plain": [
       "               SEQN     RIAGENDR     RIDAGEYR     RIDRETH1     RIDEXMON  \\\n",
       "count   9813.000000  9813.000000  9813.000000  9813.000000  9813.000000   \n",
       "mean   78644.559971     1.507694    31.629573     3.083766     1.508509   \n",
       "std     2938.592266     0.499966    24.397553     1.262812     0.499953   \n",
       "min    73557.000000     1.000000     0.000000     1.000000     1.000000   \n",
       "25%    76092.000000     1.000000    10.000000     2.000000     1.000000   \n",
       "50%    78643.000000     2.000000    27.000000     3.000000     2.000000   \n",
       "75%    81191.000000     2.000000    52.000000     4.000000     2.000000   \n",
       "max    83731.000000     2.000000    80.000000     5.000000     2.000000   \n",
       "\n",
       "          DMDBORN4     DMDCITZN      SIALANG     SIAINTRP     DMDHHSIZ  ...  \\\n",
       "count  9813.000000  9809.000000  9813.000000  9813.000000  9813.000000  ...   \n",
       "mean      1.219709     1.098787     1.106491     1.965964     3.880465  ...   \n",
       "std       1.579601     0.344094     0.308481     0.181332     1.724762  ...   \n",
       "min       1.000000     1.000000     1.000000     1.000000     1.000000  ...   \n",
       "25%       1.000000     1.000000     1.000000     2.000000     2.000000  ...   \n",
       "50%       1.000000     1.000000     1.000000     2.000000     4.000000  ...   \n",
       "75%       1.000000     1.000000     1.000000     2.000000     5.000000  ...   \n",
       "max      77.000000     9.000000     2.000000     2.000000     7.000000  ...   \n",
       "\n",
       "          DR1TTHEO       DRD340       URXUMA       URXUMS     URXUCR.x  \\\n",
       "count  9813.000000  9813.000000  9813.000000  9813.000000  9813.000000   \n",
       "mean     -0.759246    -1.734956    -0.711343     0.820030     0.511885   \n",
       "std       5.269205     6.665694     5.514023     4.847528     5.927111   \n",
       "min     -10.014475    -9.998027    -9.759888   -10.001466    -9.665313   \n",
       "25%      -3.707880    -8.764742    -4.772251    -2.817109    -5.081807   \n",
       "50%      -1.614540    -4.423152    -1.379131    -0.259016    -1.039955   \n",
       "75%       2.172646     7.025565     3.293431     5.817885     5.847951   \n",
       "max       9.826129     9.831464     9.212580     9.852084     9.542277   \n",
       "\n",
       "            URXCRS       URDACT       LBXSAL     LBDSALSI     LBXSAPSI  \n",
       "count  9813.000000  9813.000000  9813.000000  9813.000000  9813.000000  \n",
       "mean      2.087264     1.037003     2.810665    -0.255001    -0.679591  \n",
       "std       5.582975     6.174046     5.767382     4.868527     5.174773  \n",
       "min      -9.835496    -9.739738    -8.885937    -9.968040    -9.516987  \n",
       "25%      -2.314521    -4.252078    -2.047854    -4.709602    -4.487764  \n",
       "50%       3.390824     4.159020     4.867756    -0.504415    -2.959643  \n",
       "75%       6.708240     6.299989     8.099925     3.973927     3.068091  \n",
       "max       9.379928     9.740811     9.819095     9.474146     8.250141  \n",
       "\n",
       "[8 rows x 73 columns]"
      ]
     },
     "execution_count": 18,
     "metadata": {},
     "output_type": "execute_result"
    }
   ],
   "source": [
    "df_health.describe()"
   ]
  },
  {
   "cell_type": "code",
   "execution_count": 19,
   "metadata": {},
   "outputs": [
    {
     "name": "stdout",
     "output_type": "stream",
     "text": [
      "RIAGENDR = [1 2]\n",
      "RIDRETH1 = [4 3 1 5 2]\n",
      "RIDEXMON = [1 2]\n",
      "DMDBORN4 = [ 1  2 77]\n",
      "DMDCITZN = [ 1.  2. nan  7.  9.]\n",
      "SIALANG = [1 2]\n",
      "SIAINTRP = [2 1]\n",
      "DMDHHSIZ = [3 4 2 1 7 5 6]\n",
      "DMDHHSZA = [0 1 3 2]\n",
      "DMDHHSZB = [0 2 3 1 4]\n",
      "DMDHHSZE = [2 0 1 3]\n",
      "DMDHRGND = [1 2]\n",
      "SDMVPSU = [1 2]\n",
      "DR1DRSTZ = [1 4 5 2]\n"
     ]
    }
   ],
   "source": [
    "for i in df_health.columns:\n",
    "    if len(df_health[i].unique())<10:\n",
    "        print(i,'=',df_health[i].unique())"
   ]
  },
  {
   "cell_type": "code",
   "execution_count": null,
   "metadata": {},
   "outputs": [],
   "source": []
  },
  {
   "cell_type": "raw",
   "metadata": {},
   "source": [
    "col_names_categorical = ['RIAGENDR','RIDRETH3','DMDBORN4','DMDCITZN','DMDMARTL','MIALANG',\n",
    "                         'MIAPROXY','MIAINTRP','DMDFMSIZ','DMDHSEDU','DRQSDIET',\n",
    "                         'PHQ020','PHQ040','PHQ060','LBXHA','LBXHBS',\n",
    "                         'LBXHBC','LBDHD','LBDHEM','ORXGH','ORXGL','ORXH06','ORXH11','ORXH16','ORXH18',\n",
    "                         'ORXH26','ORXH31',\n",
    "                         'LBDIHGLC','LBXTTG','LBDTHGLC']"
   ]
  },
  {
   "cell_type": "raw",
   "metadata": {},
   "source": [
    "col_names_categorical = ['SDDSRVYR','RIDSTATR','RIAGENDR','RIDRETH1','RIDRETH3','RIDEXMON','DMDBORN4','DMDCITZN',\n",
    "                         'DMDEDUC2','SIALANG','SIAPROXY','SIAINTRP','MIALANG',\n",
    "                         'MIAPROXY','MIAINTRP','DMDFMSIZ','FIALANG','FIAPROXY','FIAINTRP','DMDHSEDU','DRQSDIET',\n",
    "                         'PHQ020','PHQ030','PHQ040','PHQ050','PHQ060','LBXHA','DMDHHSZB','DMDHHSZE','SDMVPSU',\n",
    "                         'DR1DRSTZ','LBXHBS','DRD350A','DRD350B','DRD350C','DRD350D',\n",
    "                         'DRD350E','DRD350F','DRD350G','DRD350H','DRD350I','DRD350J','DRD350K',\n",
    "                         'LBDHBG','LBDHD','LBDHEG','LBDHEM','LBXHE1','LBXHE2','LBDHI','ORXHPV','LBXTTG','LBDTHGLC',\n",
    "                         'LBDBPBLC','LBDBCDLC','LBDBSELC','LBDBMNLC','URXUTRI']"
   ]
  },
  {
   "cell_type": "raw",
   "metadata": {},
   "source": [
    "for i in col_names_categorical:\n",
    "    if (df[i].isnull().sum() > 0 ):\n",
    "        df[i].fillna(df[i].mode()[0],inplace=True)\n",
    "        print(df[i].unique())"
   ]
  },
  {
   "cell_type": "raw",
   "metadata": {},
   "source": [
    "for i in col_names_categorical:\n",
    "    if (df[i].isnull().sum() > 0 ):\n",
    "        df[i].fillna(0,inplace=True)\n",
    "        print(df[i].unique())"
   ]
  },
  {
   "cell_type": "raw",
   "metadata": {},
   "source": [
    "for i in col_names_categorical:\n",
    "    if (df[i].isnull().sum() > 0 ):\n",
    "        #df[i].fillna(df[i].mode()[0],inplace=True)\n",
    "        print(df[i].unique())"
   ]
  },
  {
   "cell_type": "raw",
   "metadata": {},
   "source": [
    "for i in df.columns:\n",
    "    if (df[i].isnull().sum() > 0 ):\n",
    "        df[i].fillna(df[i].mean(),inplace=True)\n",
    "        #print(i,'contain almost all null values',df_health[i].isnull().sum())"
   ]
  },
  {
   "cell_type": "code",
   "execution_count": 20,
   "metadata": {},
   "outputs": [
    {
     "data": {
      "text/plain": [
       "Index(['SEQN', 'RIAGENDR', 'RIDAGEYR', 'RIDRETH1', 'RIDEXMON', 'DMDBORN4',\n",
       "       'DMDCITZN', 'SIALANG', 'SIAINTRP', 'DMDHHSIZ', 'DMDHHSZA', 'DMDHHSZB',\n",
       "       'DMDHHSZE', 'DMDHRGND', 'DMDHRAGE', 'WTINT2YR', 'SDMVPSU', 'SDMVSTRA',\n",
       "       'DR1DRSTZ', 'DR1TALCO', 'DR1TMOIS', 'DR1TS040', 'DR1TS060', 'DR1TS080',\n",
       "       'DR1TS100', 'DR1TS120', 'DR1TS140', 'DR1TS160', 'DR1TS180', 'DR1TM161',\n",
       "       'DR1TM181', 'DR1TM201', 'DR1TM221', 'DR1TP182', 'DR1TP183', 'DR1TP184',\n",
       "       'DR1TP204', 'DR1TP205', 'DR1TP225', 'DR1TP226', 'DR1.300', 'DR1.320Z',\n",
       "       'DR1.330Z', 'DR1BWATZ', 'DR1TFA', 'DR1TFF', 'DR1TFDFE', 'DR1TCHL',\n",
       "       'DR1TVB12', 'DR1TB12A', 'DR1TVC', 'DR1TVD', 'DR1TVK', 'DR1TCALC',\n",
       "       'DR1TPHOS', 'DR1TMAGN', 'DR1TIRON', 'DR1TZINC', 'DR1TCOPP', 'DR1TSODI',\n",
       "       'DR1TPOTA', 'DR1TSELE', 'DR1TCAFF', 'DR1TTHEO', 'DRD340', 'URXUMA',\n",
       "       'URXUMS', 'URXUCR.x', 'URXCRS', 'URDACT', 'LBXSAL', 'LBDSALSI',\n",
       "       'LBXSAPSI'],\n",
       "      dtype='object')"
      ]
     },
     "execution_count": 20,
     "metadata": {},
     "output_type": "execute_result"
    }
   ],
   "source": [
    "df_health.columns"
   ]
  },
  {
   "cell_type": "raw",
   "metadata": {},
   "source": [
    "df[col_names_categorical].dtypes"
   ]
  },
  {
   "cell_type": "raw",
   "metadata": {},
   "source": [
    "df[col_names_categorical]=df[col_names_categorical].astype('object')"
   ]
  },
  {
   "cell_type": "raw",
   "metadata": {},
   "source": [
    "for i in col_names_categorical:\n",
    "    print(df[i].unique())"
   ]
  },
  {
   "cell_type": "raw",
   "metadata": {},
   "source": [
    "df1 = pd.get_dummies(df[col_names_categorical], drop_first = True)"
   ]
  },
  {
   "cell_type": "raw",
   "metadata": {},
   "source": [
    "df1.shape"
   ]
  },
  {
   "cell_type": "raw",
   "metadata": {},
   "source": [
    "for i in col_names_categorical:\n",
    "    df.drop(i,axis=1,inplace=True)"
   ]
  },
  {
   "cell_type": "code",
   "execution_count": 21,
   "metadata": {},
   "outputs": [
    {
     "data": {
      "text/plain": [
       "(9813, 73)"
      ]
     },
     "execution_count": 21,
     "metadata": {},
     "output_type": "execute_result"
    }
   ],
   "source": [
    "df_health.shape"
   ]
  },
  {
   "cell_type": "code",
   "execution_count": 22,
   "metadata": {},
   "outputs": [],
   "source": [
    "df = df_health.drop('SEQN',axis=1)"
   ]
  },
  {
   "cell_type": "raw",
   "metadata": {},
   "source": [
    "result = pd.concat([df, df1], axis=1, join='inner')\n",
    "result.shape"
   ]
  },
  {
   "cell_type": "code",
   "execution_count": 23,
   "metadata": {},
   "outputs": [
    {
     "name": "stdout",
     "output_type": "stream",
     "text": [
      "RIAGENDR    False\n",
      "RIDAGEYR    False\n",
      "RIDRETH1    False\n",
      "RIDEXMON    False\n",
      "DMDBORN4    False\n",
      "            ...  \n",
      "URXCRS      False\n",
      "URDACT      False\n",
      "LBXSAL      False\n",
      "LBDSALSI    False\n",
      "LBXSAPSI    False\n",
      "Length: 72, dtype: bool\n"
     ]
    }
   ],
   "source": [
    "print(df.isnull().sum()>0)"
   ]
  },
  {
   "cell_type": "code",
   "execution_count": 24,
   "metadata": {},
   "outputs": [],
   "source": [
    "for i in df.columns:\n",
    "    if (df[i].isnull().sum() > 0 ):\n",
    "        df[i].fillna(df[i].mean(),inplace=True)\n",
    "        #print(i,'contain almost all null values',df_health[i].isnull().sum())"
   ]
  },
  {
   "cell_type": "code",
   "execution_count": 25,
   "metadata": {},
   "outputs": [
    {
     "data": {
      "text/html": [
       "<div>\n",
       "<style scoped>\n",
       "    .dataframe tbody tr th:only-of-type {\n",
       "        vertical-align: middle;\n",
       "    }\n",
       "\n",
       "    .dataframe tbody tr th {\n",
       "        vertical-align: top;\n",
       "    }\n",
       "\n",
       "    .dataframe thead th {\n",
       "        text-align: right;\n",
       "    }\n",
       "</style>\n",
       "<table border=\"1\" class=\"dataframe\">\n",
       "  <thead>\n",
       "    <tr style=\"text-align: right;\">\n",
       "      <th></th>\n",
       "      <th>RIAGENDR</th>\n",
       "      <th>RIDAGEYR</th>\n",
       "      <th>RIDRETH1</th>\n",
       "      <th>RIDEXMON</th>\n",
       "      <th>DMDBORN4</th>\n",
       "      <th>DMDCITZN</th>\n",
       "      <th>SIALANG</th>\n",
       "      <th>SIAINTRP</th>\n",
       "      <th>DMDHHSIZ</th>\n",
       "      <th>DMDHHSZA</th>\n",
       "      <th>...</th>\n",
       "      <th>DR1TTHEO</th>\n",
       "      <th>DRD340</th>\n",
       "      <th>URXUMA</th>\n",
       "      <th>URXUMS</th>\n",
       "      <th>URXUCR.x</th>\n",
       "      <th>URXCRS</th>\n",
       "      <th>URDACT</th>\n",
       "      <th>LBXSAL</th>\n",
       "      <th>LBDSALSI</th>\n",
       "      <th>LBXSAPSI</th>\n",
       "    </tr>\n",
       "  </thead>\n",
       "  <tbody>\n",
       "    <tr>\n",
       "      <th>count</th>\n",
       "      <td>9.813000e+03</td>\n",
       "      <td>9.813000e+03</td>\n",
       "      <td>9.813000e+03</td>\n",
       "      <td>9.813000e+03</td>\n",
       "      <td>9.813000e+03</td>\n",
       "      <td>9.813000e+03</td>\n",
       "      <td>9.813000e+03</td>\n",
       "      <td>9.813000e+03</td>\n",
       "      <td>9.813000e+03</td>\n",
       "      <td>9.813000e+03</td>\n",
       "      <td>...</td>\n",
       "      <td>9.813000e+03</td>\n",
       "      <td>9.813000e+03</td>\n",
       "      <td>9.813000e+03</td>\n",
       "      <td>9.813000e+03</td>\n",
       "      <td>9.813000e+03</td>\n",
       "      <td>9.813000e+03</td>\n",
       "      <td>9.813000e+03</td>\n",
       "      <td>9.813000e+03</td>\n",
       "      <td>9.813000e+03</td>\n",
       "      <td>9.813000e+03</td>\n",
       "    </tr>\n",
       "    <tr>\n",
       "      <th>mean</th>\n",
       "      <td>4.063916e-17</td>\n",
       "      <td>3.710926e-18</td>\n",
       "      <td>2.192614e-17</td>\n",
       "      <td>3.990603e-16</td>\n",
       "      <td>-5.110443e-17</td>\n",
       "      <td>-1.310104e-15</td>\n",
       "      <td>6.240012e-16</td>\n",
       "      <td>-7.710636e-16</td>\n",
       "      <td>-3.243129e-16</td>\n",
       "      <td>-6.361975e-16</td>\n",
       "      <td>...</td>\n",
       "      <td>2.957993e-17</td>\n",
       "      <td>6.595944e-18</td>\n",
       "      <td>-6.629886e-18</td>\n",
       "      <td>3.197279e-17</td>\n",
       "      <td>-3.254980e-17</td>\n",
       "      <td>1.733274e-17</td>\n",
       "      <td>1.712909e-17</td>\n",
       "      <td>2.525240e-17</td>\n",
       "      <td>1.731011e-17</td>\n",
       "      <td>-1.357656e-17</td>\n",
       "    </tr>\n",
       "    <tr>\n",
       "      <th>std</th>\n",
       "      <td>1.000051e+00</td>\n",
       "      <td>1.000051e+00</td>\n",
       "      <td>1.000051e+00</td>\n",
       "      <td>1.000051e+00</td>\n",
       "      <td>1.000051e+00</td>\n",
       "      <td>1.000051e+00</td>\n",
       "      <td>1.000051e+00</td>\n",
       "      <td>1.000051e+00</td>\n",
       "      <td>1.000051e+00</td>\n",
       "      <td>1.000051e+00</td>\n",
       "      <td>...</td>\n",
       "      <td>1.000051e+00</td>\n",
       "      <td>1.000051e+00</td>\n",
       "      <td>1.000051e+00</td>\n",
       "      <td>1.000051e+00</td>\n",
       "      <td>1.000051e+00</td>\n",
       "      <td>1.000051e+00</td>\n",
       "      <td>1.000051e+00</td>\n",
       "      <td>1.000051e+00</td>\n",
       "      <td>1.000051e+00</td>\n",
       "      <td>1.000051e+00</td>\n",
       "    </tr>\n",
       "    <tr>\n",
       "      <th>min</th>\n",
       "      <td>-1.015508e+00</td>\n",
       "      <td>-1.296490e+00</td>\n",
       "      <td>-1.650184e+00</td>\n",
       "      <td>-1.017166e+00</td>\n",
       "      <td>-1.390983e-01</td>\n",
       "      <td>-2.871655e-01</td>\n",
       "      <td>-3.452295e-01</td>\n",
       "      <td>-5.327311e+00</td>\n",
       "      <td>-1.670150e+00</td>\n",
       "      <td>-6.630139e-01</td>\n",
       "      <td>...</td>\n",
       "      <td>-1.756565e+00</td>\n",
       "      <td>-1.239705e+00</td>\n",
       "      <td>-1.641090e+00</td>\n",
       "      <td>-2.232488e+00</td>\n",
       "      <td>-1.717146e+00</td>\n",
       "      <td>-2.135666e+00</td>\n",
       "      <td>-1.745580e+00</td>\n",
       "      <td>-2.028164e+00</td>\n",
       "      <td>-1.995169e+00</td>\n",
       "      <td>-1.707871e+00</td>\n",
       "    </tr>\n",
       "    <tr>\n",
       "      <th>25%</th>\n",
       "      <td>-1.015508e+00</td>\n",
       "      <td>-8.865920e-01</td>\n",
       "      <td>-8.582604e-01</td>\n",
       "      <td>-1.017166e+00</td>\n",
       "      <td>-1.390983e-01</td>\n",
       "      <td>-2.871655e-01</td>\n",
       "      <td>-3.452295e-01</td>\n",
       "      <td>1.877120e-01</td>\n",
       "      <td>-1.090330e+00</td>\n",
       "      <td>-6.630139e-01</td>\n",
       "      <td>...</td>\n",
       "      <td>-5.596262e-01</td>\n",
       "      <td>-1.054675e+00</td>\n",
       "      <td>-7.365068e-01</td>\n",
       "      <td>-7.503462e-01</td>\n",
       "      <td>-9.437948e-01</td>\n",
       "      <td>-7.884702e-01</td>\n",
       "      <td>-8.567073e-01</td>\n",
       "      <td>-8.424562e-01</td>\n",
       "      <td>-9.150260e-01</td>\n",
       "      <td>-7.359487e-01</td>\n",
       "    </tr>\n",
       "    <tr>\n",
       "      <th>50%</th>\n",
       "      <td>9.847288e-01</td>\n",
       "      <td>-1.897653e-01</td>\n",
       "      <td>-6.633663e-02</td>\n",
       "      <td>9.831241e-01</td>\n",
       "      <td>-1.390983e-01</td>\n",
       "      <td>-2.871655e-01</td>\n",
       "      <td>-3.452295e-01</td>\n",
       "      <td>1.877120e-01</td>\n",
       "      <td>6.930892e-02</td>\n",
       "      <td>-6.630139e-01</td>\n",
       "      <td>...</td>\n",
       "      <td>-1.623278e-01</td>\n",
       "      <td>-4.033087e-01</td>\n",
       "      <td>-1.211135e-01</td>\n",
       "      <td>-2.226084e-01</td>\n",
       "      <td>-2.618338e-01</td>\n",
       "      <td>2.335002e-01</td>\n",
       "      <td>5.056937e-01</td>\n",
       "      <td>3.566948e-01</td>\n",
       "      <td>-5.123258e-02</td>\n",
       "      <td>-4.406316e-01</td>\n",
       "    </tr>\n",
       "    <tr>\n",
       "      <th>75%</th>\n",
       "      <td>9.847288e-01</td>\n",
       "      <td>8.349799e-01</td>\n",
       "      <td>7.255871e-01</td>\n",
       "      <td>9.831241e-01</td>\n",
       "      <td>-1.390983e-01</td>\n",
       "      <td>-2.871655e-01</td>\n",
       "      <td>-3.452295e-01</td>\n",
       "      <td>1.877120e-01</td>\n",
       "      <td>6.491285e-01</td>\n",
       "      <td>5.638681e-01</td>\n",
       "      <td>...</td>\n",
       "      <td>5.564484e-01</td>\n",
       "      <td>1.314337e+00</td>\n",
       "      <td>7.263260e-01</td>\n",
       "      <td>1.031064e+00</td>\n",
       "      <td>9.003270e-01</td>\n",
       "      <td>8.277328e-01</td>\n",
       "      <td>8.524805e-01</td>\n",
       "      <td>9.171456e-01</td>\n",
       "      <td>8.686700e-01</td>\n",
       "      <td>7.242583e-01</td>\n",
       "    </tr>\n",
       "    <tr>\n",
       "      <th>max</th>\n",
       "      <td>9.847288e-01</td>\n",
       "      <td>1.982694e+00</td>\n",
       "      <td>1.517511e+00</td>\n",
       "      <td>9.831241e-01</td>\n",
       "      <td>4.797677e+01</td>\n",
       "      <td>2.296820e+01</td>\n",
       "      <td>2.896624e+00</td>\n",
       "      <td>1.877120e-01</td>\n",
       "      <td>1.808768e+00</td>\n",
       "      <td>3.017632e+00</td>\n",
       "      <td>...</td>\n",
       "      <td>2.009015e+00</td>\n",
       "      <td>1.735305e+00</td>\n",
       "      <td>1.799853e+00</td>\n",
       "      <td>1.863324e+00</td>\n",
       "      <td>1.523652e+00</td>\n",
       "      <td>1.306299e+00</td>\n",
       "      <td>1.409813e+00</td>\n",
       "      <td>1.215246e+00</td>\n",
       "      <td>1.998478e+00</td>\n",
       "      <td>1.725715e+00</td>\n",
       "    </tr>\n",
       "  </tbody>\n",
       "</table>\n",
       "<p>8 rows × 72 columns</p>\n",
       "</div>"
      ],
      "text/plain": [
       "           RIAGENDR      RIDAGEYR      RIDRETH1      RIDEXMON      DMDBORN4  \\\n",
       "count  9.813000e+03  9.813000e+03  9.813000e+03  9.813000e+03  9.813000e+03   \n",
       "mean   4.063916e-17  3.710926e-18  2.192614e-17  3.990603e-16 -5.110443e-17   \n",
       "std    1.000051e+00  1.000051e+00  1.000051e+00  1.000051e+00  1.000051e+00   \n",
       "min   -1.015508e+00 -1.296490e+00 -1.650184e+00 -1.017166e+00 -1.390983e-01   \n",
       "25%   -1.015508e+00 -8.865920e-01 -8.582604e-01 -1.017166e+00 -1.390983e-01   \n",
       "50%    9.847288e-01 -1.897653e-01 -6.633663e-02  9.831241e-01 -1.390983e-01   \n",
       "75%    9.847288e-01  8.349799e-01  7.255871e-01  9.831241e-01 -1.390983e-01   \n",
       "max    9.847288e-01  1.982694e+00  1.517511e+00  9.831241e-01  4.797677e+01   \n",
       "\n",
       "           DMDCITZN       SIALANG      SIAINTRP      DMDHHSIZ      DMDHHSZA  \\\n",
       "count  9.813000e+03  9.813000e+03  9.813000e+03  9.813000e+03  9.813000e+03   \n",
       "mean  -1.310104e-15  6.240012e-16 -7.710636e-16 -3.243129e-16 -6.361975e-16   \n",
       "std    1.000051e+00  1.000051e+00  1.000051e+00  1.000051e+00  1.000051e+00   \n",
       "min   -2.871655e-01 -3.452295e-01 -5.327311e+00 -1.670150e+00 -6.630139e-01   \n",
       "25%   -2.871655e-01 -3.452295e-01  1.877120e-01 -1.090330e+00 -6.630139e-01   \n",
       "50%   -2.871655e-01 -3.452295e-01  1.877120e-01  6.930892e-02 -6.630139e-01   \n",
       "75%   -2.871655e-01 -3.452295e-01  1.877120e-01  6.491285e-01  5.638681e-01   \n",
       "max    2.296820e+01  2.896624e+00  1.877120e-01  1.808768e+00  3.017632e+00   \n",
       "\n",
       "       ...      DR1TTHEO        DRD340        URXUMA        URXUMS  \\\n",
       "count  ...  9.813000e+03  9.813000e+03  9.813000e+03  9.813000e+03   \n",
       "mean   ...  2.957993e-17  6.595944e-18 -6.629886e-18  3.197279e-17   \n",
       "std    ...  1.000051e+00  1.000051e+00  1.000051e+00  1.000051e+00   \n",
       "min    ... -1.756565e+00 -1.239705e+00 -1.641090e+00 -2.232488e+00   \n",
       "25%    ... -5.596262e-01 -1.054675e+00 -7.365068e-01 -7.503462e-01   \n",
       "50%    ... -1.623278e-01 -4.033087e-01 -1.211135e-01 -2.226084e-01   \n",
       "75%    ...  5.564484e-01  1.314337e+00  7.263260e-01  1.031064e+00   \n",
       "max    ...  2.009015e+00  1.735305e+00  1.799853e+00  1.863324e+00   \n",
       "\n",
       "           URXUCR.x        URXCRS        URDACT        LBXSAL      LBDSALSI  \\\n",
       "count  9.813000e+03  9.813000e+03  9.813000e+03  9.813000e+03  9.813000e+03   \n",
       "mean  -3.254980e-17  1.733274e-17  1.712909e-17  2.525240e-17  1.731011e-17   \n",
       "std    1.000051e+00  1.000051e+00  1.000051e+00  1.000051e+00  1.000051e+00   \n",
       "min   -1.717146e+00 -2.135666e+00 -1.745580e+00 -2.028164e+00 -1.995169e+00   \n",
       "25%   -9.437948e-01 -7.884702e-01 -8.567073e-01 -8.424562e-01 -9.150260e-01   \n",
       "50%   -2.618338e-01  2.335002e-01  5.056937e-01  3.566948e-01 -5.123258e-02   \n",
       "75%    9.003270e-01  8.277328e-01  8.524805e-01  9.171456e-01  8.686700e-01   \n",
       "max    1.523652e+00  1.306299e+00  1.409813e+00  1.215246e+00  1.998478e+00   \n",
       "\n",
       "           LBXSAPSI  \n",
       "count  9.813000e+03  \n",
       "mean  -1.357656e-17  \n",
       "std    1.000051e+00  \n",
       "min   -1.707871e+00  \n",
       "25%   -7.359487e-01  \n",
       "50%   -4.406316e-01  \n",
       "75%    7.242583e-01  \n",
       "max    1.725715e+00  \n",
       "\n",
       "[8 rows x 72 columns]"
      ]
     },
     "execution_count": 25,
     "metadata": {},
     "output_type": "execute_result"
    }
   ],
   "source": [
    "scaler = StandardScaler()\n",
    "scaled_data = scaler.fit_transform(df)\n",
    "\n",
    "\n",
    "df_scaled = pd.DataFrame(scaled_data, columns = df.columns)\n",
    "\n",
    "df_scaled.describe()"
   ]
  },
  {
   "cell_type": "code",
   "execution_count": 26,
   "metadata": {},
   "outputs": [],
   "source": [
    "from sklearn.decomposition import PCA\n",
    "pca=PCA()\n",
    "pcadata=pca.fit_transform(df_scaled)"
   ]
  },
  {
   "cell_type": "code",
   "execution_count": 27,
   "metadata": {},
   "outputs": [
    {
     "data": {
      "text/plain": [
       "72"
      ]
     },
     "execution_count": 27,
     "metadata": {},
     "output_type": "execute_result"
    }
   ],
   "source": [
    "df_scaled.shape[1]"
   ]
  },
  {
   "cell_type": "code",
   "execution_count": 28,
   "metadata": {},
   "outputs": [
    {
     "name": "stdout",
     "output_type": "stream",
     "text": [
      "The number of principle components capturing 95 percent variation in data is :  35  Variance explained is  0.9523218617287318\n"
     ]
    }
   ],
   "source": [
    "from sklearn.decomposition import PCA \n",
    "pca = PCA(n_components = df_scaled.shape[1])\n",
    "pca_data = pca.fit_transform(df_scaled)\n",
    "exp_var_ratio= pca.explained_variance_ratio_\n",
    "exp_var_ratio.round(3)\n",
    "\n",
    "cum_var=exp_var_ratio[0]\n",
    "itr=2 # defined as two as first pc1 variance defined outside the loop\n",
    "for j in exp_var_ratio[1:]:\n",
    "    cum_var=cum_var+j\n",
    "    if cum_var >= 0.95:\n",
    "        break\n",
    "    itr=itr+1\n",
    "\n",
    "print('The number of principle components capturing 95 percent variation in data is : ',itr,' Variance explained is ', cum_var)"
   ]
  },
  {
   "cell_type": "code",
   "execution_count": 29,
   "metadata": {},
   "outputs": [
    {
     "data": {
      "image/png": "[encoded data removed]",
      "text/plain": [
       "<Figure size 432x288 with 1 Axes>"
      ]
     },
     "metadata": {
      "needs_background": "light"
     },
     "output_type": "display_data"
    }
   ],
   "source": [
    "plt.plot(np.cumsum(pca.explained_variance_ratio_))\n",
    "plt.xlabel('number of components')\n",
    "plt.ylabel('cumulative explained variance');"
   ]
  },
  {
   "cell_type": "code",
   "execution_count": 30,
   "metadata": {},
   "outputs": [
    {
     "name": "stdout",
     "output_type": "stream",
     "text": [
      "5 0.19576683402951403\n",
      "6 0.21440689155867992\n",
      "10 0.2973419120206258\n",
      "15 0.3993296155965707\n",
      "20 0.4500889366642093\n",
      "21 0.4531728262774646\n",
      "22 0.46687060268603714\n",
      "23 0.418041849360996\n",
      "24 0.423551933163787\n",
      "25 0.42595329013742583\n",
      "26 0.4007559186987751\n",
      "27 0.40557562186206686\n",
      "28 0.4175370866513067\n",
      "29 0.4084424724066904\n",
      "30 0.40826803651374066\n"
     ]
    }
   ],
   "source": [
    "from sklearn.cluster import KMeans\n",
    "cl=[5,6,10,15,20,21,22,23,24,25,26,27,28,29,30]\n",
    "for k in cl:\n",
    "    clust_mod=KMeans(n_clusters=k,max_iter=1000,random_state=0)\n",
    "    clust_mod.fit(pcadata)\n",
    "    print(k,silhouette_score(pcadata,clust_mod.labels_))"
   ]
  },
  {
   "cell_type": "code",
   "execution_count": 31,
   "metadata": {},
   "outputs": [],
   "source": [
    "clusters = KMeans(n_clusters = 15, random_state = 10)\n",
    "\n",
    "# fit the model\n",
    "clusters.fit(pcadata)\n",
    "\n",
    "# create a copy of the original dataframe\n",
    "df_cluster = df_health.copy()\n",
    "\n",
    "\n",
    "# add the cluster labels as the new column in the dataframe\n",
    "df_cluster['Cluster'] = clusters.labels_"
   ]
  },
  {
   "cell_type": "code",
   "execution_count": 32,
   "metadata": {},
   "outputs": [
    {
     "data": {
      "text/html": [
       "<div>\n",
       "<style scoped>\n",
       "    .dataframe tbody tr th:only-of-type {\n",
       "        vertical-align: middle;\n",
       "    }\n",
       "\n",
       "    .dataframe tbody tr th {\n",
       "        vertical-align: top;\n",
       "    }\n",
       "\n",
       "    .dataframe thead th {\n",
       "        text-align: right;\n",
       "    }\n",
       "</style>\n",
       "<table border=\"1\" class=\"dataframe\">\n",
       "  <thead>\n",
       "    <tr style=\"text-align: right;\">\n",
       "      <th></th>\n",
       "      <th>SEQN</th>\n",
       "      <th>Cluster</th>\n",
       "    </tr>\n",
       "  </thead>\n",
       "  <tbody>\n",
       "    <tr>\n",
       "      <th>0</th>\n",
       "      <td>73557</td>\n",
       "      <td>11</td>\n",
       "    </tr>\n",
       "    <tr>\n",
       "      <th>1</th>\n",
       "      <td>73558</td>\n",
       "      <td>13</td>\n",
       "    </tr>\n",
       "    <tr>\n",
       "      <th>2</th>\n",
       "      <td>73559</td>\n",
       "      <td>13</td>\n",
       "    </tr>\n",
       "    <tr>\n",
       "      <th>3</th>\n",
       "      <td>73560</td>\n",
       "      <td>2</td>\n",
       "    </tr>\n",
       "    <tr>\n",
       "      <th>4</th>\n",
       "      <td>73561</td>\n",
       "      <td>6</td>\n",
       "    </tr>\n",
       "    <tr>\n",
       "      <th>5</th>\n",
       "      <td>73562</td>\n",
       "      <td>3</td>\n",
       "    </tr>\n",
       "    <tr>\n",
       "      <th>6</th>\n",
       "      <td>73563</td>\n",
       "      <td>1</td>\n",
       "    </tr>\n",
       "    <tr>\n",
       "      <th>7</th>\n",
       "      <td>73564</td>\n",
       "      <td>9</td>\n",
       "    </tr>\n",
       "    <tr>\n",
       "      <th>8</th>\n",
       "      <td>73566</td>\n",
       "      <td>6</td>\n",
       "    </tr>\n",
       "    <tr>\n",
       "      <th>9</th>\n",
       "      <td>73567</td>\n",
       "      <td>5</td>\n",
       "    </tr>\n",
       "    <tr>\n",
       "      <th>10</th>\n",
       "      <td>73568</td>\n",
       "      <td>13</td>\n",
       "    </tr>\n",
       "    <tr>\n",
       "      <th>11</th>\n",
       "      <td>73570</td>\n",
       "      <td>2</td>\n",
       "    </tr>\n",
       "    <tr>\n",
       "      <th>12</th>\n",
       "      <td>73571</td>\n",
       "      <td>5</td>\n",
       "    </tr>\n",
       "    <tr>\n",
       "      <th>13</th>\n",
       "      <td>73572</td>\n",
       "      <td>1</td>\n",
       "    </tr>\n",
       "    <tr>\n",
       "      <th>14</th>\n",
       "      <td>73573</td>\n",
       "      <td>2</td>\n",
       "    </tr>\n",
       "    <tr>\n",
       "      <th>15</th>\n",
       "      <td>73574</td>\n",
       "      <td>13</td>\n",
       "    </tr>\n",
       "    <tr>\n",
       "      <th>16</th>\n",
       "      <td>73575</td>\n",
       "      <td>14</td>\n",
       "    </tr>\n",
       "    <tr>\n",
       "      <th>17</th>\n",
       "      <td>73576</td>\n",
       "      <td>1</td>\n",
       "    </tr>\n",
       "    <tr>\n",
       "      <th>18</th>\n",
       "      <td>73577</td>\n",
       "      <td>13</td>\n",
       "    </tr>\n",
       "    <tr>\n",
       "      <th>19</th>\n",
       "      <td>73578</td>\n",
       "      <td>5</td>\n",
       "    </tr>\n",
       "  </tbody>\n",
       "</table>\n",
       "</div>"
      ],
      "text/plain": [
       "     SEQN  Cluster\n",
       "0   73557       11\n",
       "1   73558       13\n",
       "2   73559       13\n",
       "3   73560        2\n",
       "4   73561        6\n",
       "5   73562        3\n",
       "6   73563        1\n",
       "7   73564        9\n",
       "8   73566        6\n",
       "9   73567        5\n",
       "10  73568       13\n",
       "11  73570        2\n",
       "12  73571        5\n",
       "13  73572        1\n",
       "14  73573        2\n",
       "15  73574       13\n",
       "16  73575       14\n",
       "17  73576        1\n",
       "18  73577       13\n",
       "19  73578        5"
      ]
     },
     "execution_count": 32,
     "metadata": {},
     "output_type": "execute_result"
    }
   ],
   "source": [
    "df_cluster[['SEQN','Cluster']].head(20)"
   ]
  },
  {
   "cell_type": "code",
   "execution_count": 33,
   "metadata": {},
   "outputs": [
    {
     "data": {
      "text/plain": [
       "13    1515\n",
       "2     1321\n",
       "1      982\n",
       "8      812\n",
       "5      723\n",
       "3      644\n",
       "6      542\n",
       "14     505\n",
       "0      451\n",
       "4      436\n",
       "11     428\n",
       "7      392\n",
       "10     378\n",
       "9      367\n",
       "12     317\n",
       "Name: Cluster, dtype: int64"
      ]
     },
     "execution_count": 33,
     "metadata": {},
     "output_type": "execute_result"
    }
   ],
   "source": [
    "df_cluster['Cluster'].value_counts()"
   ]
  },
  {
   "cell_type": "raw",
   "metadata": {},
   "source": [
    "df_cluster[['SEQN','Cluster']].to_csv('/Users/swatiraman/Downloads/SwatiRaman_4.csv')"
   ]
  },
  {
   "cell_type": "code",
   "execution_count": null,
   "metadata": {},
   "outputs": [],
   "source": []
  }
 ],
 "metadata": {
  "kernelspec": {
   "display_name": "Python 3",
   "language": "python",
   "name": "python3"
  },
  "language_info": {
   "codemirror_mode": {
    "name": "ipython",
    "version": 3
   },
   "file_extension": ".py",
   "mimetype": "text/x-python",
   "name": "python",
   "nbconvert_exporter": "python",
   "pygments_lexer": "ipython3",
   "version": "3.8.3"
  }
 },
 "nbformat": 4,
 "nbformat_minor": 4
}
